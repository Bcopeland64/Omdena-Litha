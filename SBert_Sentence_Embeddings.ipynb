{
  "nbformat": 4,
  "nbformat_minor": 0,
  "metadata": {
    "colab": {
      "provenance": []
    },
    "kernelspec": {
      "name": "python3",
      "display_name": "Python 3"
    },
    "language_info": {
      "name": "python"
    }
  },
  "cells": [
    {
      "cell_type": "code",
      "source": [
        "!pip install umap --quiet\n",
        "!pip install hdbscan --quiet\n",
        "!pip install transformers --quiet\n",
        "!pip install sentence-transformers --quiet"
      ],
      "metadata": {
        "id": "LPRKvLp6yUo6"
      },
      "execution_count": 1,
      "outputs": []
    },
    {
      "cell_type": "code",
      "execution_count": 2,
      "metadata": {
        "colab": {
          "base_uri": "https://localhost:8080/"
        },
        "id": "YEhAYSZIwe2S",
        "outputId": "ab33e2c5-1b20-448c-a85e-7d35e73f316c"
      },
      "outputs": [
        {
          "output_type": "stream",
          "name": "stderr",
          "text": [
            "[nltk_data] Downloading package punkt to /root/nltk_data...\n",
            "[nltk_data]   Package punkt is already up-to-date!\n"
          ]
        }
      ],
      "source": [
        "import numpy as np\n",
        "import pandas as pd\n",
        "import umap\n",
        "import hdbscan\n",
        "import ipywidgets as widgets\n",
        "import pprint\n",
        "\n",
        "from sentence_transformers import SentenceTransformer, util\n",
        "import torch\n",
        "\n",
        "from sklearn.feature_extraction.text import CountVectorizer\n",
        "from sklearn.metrics.pairwise import cosine_similarity\n",
        "\n",
        "from tqdm import tqdm\n",
        "import matplotlib.pyplot as plt\n",
        "import seaborn as sns\n",
        "\n",
        "import nltk\n",
        "nltk.download('punkt')\n",
        "from nltk import tokenize\n",
        "\n",
        "import datetime as datetime\n",
        "import os\n",
        "\n",
        "import transformers\n"
      ]
    },
    {
      "cell_type": "code",
      "source": [
        "import transformers"
      ],
      "metadata": {
        "id": "1fC3Fs43zaUU"
      },
      "execution_count": 3,
      "outputs": []
    },
    {
      "cell_type": "markdown",
      "source": [
        "***Pre-Trained Models List***"
      ],
      "metadata": {
        "id": "THLQPg3Kzob3"
      }
    },
    {
      "cell_type": "code",
      "source": [
        "from sentence_transformers import SentenceTransformer\n",
        "model = SentenceTransformer('sentence-transformers/all-MiniLM-L6-v2')"
      ],
      "metadata": {
        "id": "cxmTXLg6zscw"
      },
      "execution_count": 4,
      "outputs": []
    },
    {
      "cell_type": "markdown",
      "source": [
        "***Semantic Textual Similarity***"
      ],
      "metadata": {
        "id": "UL2DnPq_1Swm"
      }
    },
    {
      "cell_type": "code",
      "source": [
        "group_1 = pd.read_csv('/content/300_TRANSCRIPT.csv')\n",
        "group_2 = pd.read_csv('/content/301_TRANSCRIPT.csv')"
      ],
      "metadata": {
        "id": "AzQg6_DU1ZBh"
      },
      "execution_count": 5,
      "outputs": []
    },
    {
      "cell_type": "code",
      "source": [
        "group_1.head()"
      ],
      "metadata": {
        "colab": {
          "base_uri": "https://localhost:8080/",
          "height": 206
        },
        "id": "Xd7hjEJt23Cw",
        "outputId": "fe27f7d3-4dfd-4245-cb21-983b33ae4ea2"
      },
      "execution_count": 6,
      "outputs": [
        {
          "output_type": "execute_result",
          "data": {
            "text/plain": [
              "               start_time\\tstop_time\\tspeaker\\tvalue\n",
              "0  36.588\\t39.668\\tEllie\\thi i'm ellie thanks for...\n",
              "1  39.888\\t43.378\\tEllie\\ti was created to talk t...\n",
              "2  43.728\\t48.498\\tEllie\\tthink of me as a friend...\n",
              "3  49.188\\t52.388\\tEllie\\ti'm here to learn about...\n",
              "4  52.658\\t58.958\\tEllie\\ti'll ask a few question..."
            ],
            "text/html": [
              "\n",
              "  <div id=\"df-edb43ff7-9893-4e1e-8277-794e010286f1\">\n",
              "    <div class=\"colab-df-container\">\n",
              "      <div>\n",
              "<style scoped>\n",
              "    .dataframe tbody tr th:only-of-type {\n",
              "        vertical-align: middle;\n",
              "    }\n",
              "\n",
              "    .dataframe tbody tr th {\n",
              "        vertical-align: top;\n",
              "    }\n",
              "\n",
              "    .dataframe thead th {\n",
              "        text-align: right;\n",
              "    }\n",
              "</style>\n",
              "<table border=\"1\" class=\"dataframe\">\n",
              "  <thead>\n",
              "    <tr style=\"text-align: right;\">\n",
              "      <th></th>\n",
              "      <th>start_time\\tstop_time\\tspeaker\\tvalue</th>\n",
              "    </tr>\n",
              "  </thead>\n",
              "  <tbody>\n",
              "    <tr>\n",
              "      <th>0</th>\n",
              "      <td>36.588\\t39.668\\tEllie\\thi i'm ellie thanks for...</td>\n",
              "    </tr>\n",
              "    <tr>\n",
              "      <th>1</th>\n",
              "      <td>39.888\\t43.378\\tEllie\\ti was created to talk t...</td>\n",
              "    </tr>\n",
              "    <tr>\n",
              "      <th>2</th>\n",
              "      <td>43.728\\t48.498\\tEllie\\tthink of me as a friend...</td>\n",
              "    </tr>\n",
              "    <tr>\n",
              "      <th>3</th>\n",
              "      <td>49.188\\t52.388\\tEllie\\ti'm here to learn about...</td>\n",
              "    </tr>\n",
              "    <tr>\n",
              "      <th>4</th>\n",
              "      <td>52.658\\t58.958\\tEllie\\ti'll ask a few question...</td>\n",
              "    </tr>\n",
              "  </tbody>\n",
              "</table>\n",
              "</div>\n",
              "      <button class=\"colab-df-convert\" onclick=\"convertToInteractive('df-edb43ff7-9893-4e1e-8277-794e010286f1')\"\n",
              "              title=\"Convert this dataframe to an interactive table.\"\n",
              "              style=\"display:none;\">\n",
              "        \n",
              "  <svg xmlns=\"http://www.w3.org/2000/svg\" height=\"24px\"viewBox=\"0 0 24 24\"\n",
              "       width=\"24px\">\n",
              "    <path d=\"M0 0h24v24H0V0z\" fill=\"none\"/>\n",
              "    <path d=\"M18.56 5.44l.94 2.06.94-2.06 2.06-.94-2.06-.94-.94-2.06-.94 2.06-2.06.94zm-11 1L8.5 8.5l.94-2.06 2.06-.94-2.06-.94L8.5 2.5l-.94 2.06-2.06.94zm10 10l.94 2.06.94-2.06 2.06-.94-2.06-.94-.94-2.06-.94 2.06-2.06.94z\"/><path d=\"M17.41 7.96l-1.37-1.37c-.4-.4-.92-.59-1.43-.59-.52 0-1.04.2-1.43.59L10.3 9.45l-7.72 7.72c-.78.78-.78 2.05 0 2.83L4 21.41c.39.39.9.59 1.41.59.51 0 1.02-.2 1.41-.59l7.78-7.78 2.81-2.81c.8-.78.8-2.07 0-2.86zM5.41 20L4 18.59l7.72-7.72 1.47 1.35L5.41 20z\"/>\n",
              "  </svg>\n",
              "      </button>\n",
              "      \n",
              "  <style>\n",
              "    .colab-df-container {\n",
              "      display:flex;\n",
              "      flex-wrap:wrap;\n",
              "      gap: 12px;\n",
              "    }\n",
              "\n",
              "    .colab-df-convert {\n",
              "      background-color: #E8F0FE;\n",
              "      border: none;\n",
              "      border-radius: 50%;\n",
              "      cursor: pointer;\n",
              "      display: none;\n",
              "      fill: #1967D2;\n",
              "      height: 32px;\n",
              "      padding: 0 0 0 0;\n",
              "      width: 32px;\n",
              "    }\n",
              "\n",
              "    .colab-df-convert:hover {\n",
              "      background-color: #E2EBFA;\n",
              "      box-shadow: 0px 1px 2px rgba(60, 64, 67, 0.3), 0px 1px 3px 1px rgba(60, 64, 67, 0.15);\n",
              "      fill: #174EA6;\n",
              "    }\n",
              "\n",
              "    [theme=dark] .colab-df-convert {\n",
              "      background-color: #3B4455;\n",
              "      fill: #D2E3FC;\n",
              "    }\n",
              "\n",
              "    [theme=dark] .colab-df-convert:hover {\n",
              "      background-color: #434B5C;\n",
              "      box-shadow: 0px 1px 3px 1px rgba(0, 0, 0, 0.15);\n",
              "      filter: drop-shadow(0px 1px 2px rgba(0, 0, 0, 0.3));\n",
              "      fill: #FFFFFF;\n",
              "    }\n",
              "  </style>\n",
              "\n",
              "      <script>\n",
              "        const buttonEl =\n",
              "          document.querySelector('#df-edb43ff7-9893-4e1e-8277-794e010286f1 button.colab-df-convert');\n",
              "        buttonEl.style.display =\n",
              "          google.colab.kernel.accessAllowed ? 'block' : 'none';\n",
              "\n",
              "        async function convertToInteractive(key) {\n",
              "          const element = document.querySelector('#df-edb43ff7-9893-4e1e-8277-794e010286f1');\n",
              "          const dataTable =\n",
              "            await google.colab.kernel.invokeFunction('convertToInteractive',\n",
              "                                                     [key], {});\n",
              "          if (!dataTable) return;\n",
              "\n",
              "          const docLinkHtml = 'Like what you see? Visit the ' +\n",
              "            '<a target=\"_blank\" href=https://colab.research.google.com/notebooks/data_table.ipynb>data table notebook</a>'\n",
              "            + ' to learn more about interactive tables.';\n",
              "          element.innerHTML = '';\n",
              "          dataTable['output_type'] = 'display_data';\n",
              "          await google.colab.output.renderOutput(dataTable, element);\n",
              "          const docLink = document.createElement('div');\n",
              "          docLink.innerHTML = docLinkHtml;\n",
              "          element.appendChild(docLink);\n",
              "        }\n",
              "      </script>\n",
              "    </div>\n",
              "  </div>\n",
              "  "
            ]
          },
          "metadata": {},
          "execution_count": 6
        }
      ]
    },
    {
      "cell_type": "code",
      "source": [
        "group_2.head()"
      ],
      "metadata": {
        "colab": {
          "base_uri": "https://localhost:8080/",
          "height": 206
        },
        "id": "nzKsWlH-25Jo",
        "outputId": "43518103-59e3-4e83-befc-9d29041d2b8b"
      },
      "execution_count": 7,
      "outputs": [
        {
          "output_type": "execute_result",
          "data": {
            "text/plain": [
              "               start_time\\tstop_time\\tspeaker\\tvalue\n",
              "0  29.428\\t35.888\\tEllie\\thi i'm ellie thanks for...\n",
              "1             32.738\\t33.068\\tParticipant\\tthank you\n",
              "2  36.598\\t40.948\\tEllie\\tthink of me as a friend...\n",
              "3                 42.088\\t42.518\\tParticipant\\tmmm k\n",
              "4  42.358\\t51.738\\tEllie\\ti'm here to learn about..."
            ],
            "text/html": [
              "\n",
              "  <div id=\"df-c064b023-4620-42cf-8144-190d9e740397\">\n",
              "    <div class=\"colab-df-container\">\n",
              "      <div>\n",
              "<style scoped>\n",
              "    .dataframe tbody tr th:only-of-type {\n",
              "        vertical-align: middle;\n",
              "    }\n",
              "\n",
              "    .dataframe tbody tr th {\n",
              "        vertical-align: top;\n",
              "    }\n",
              "\n",
              "    .dataframe thead th {\n",
              "        text-align: right;\n",
              "    }\n",
              "</style>\n",
              "<table border=\"1\" class=\"dataframe\">\n",
              "  <thead>\n",
              "    <tr style=\"text-align: right;\">\n",
              "      <th></th>\n",
              "      <th>start_time\\tstop_time\\tspeaker\\tvalue</th>\n",
              "    </tr>\n",
              "  </thead>\n",
              "  <tbody>\n",
              "    <tr>\n",
              "      <th>0</th>\n",
              "      <td>29.428\\t35.888\\tEllie\\thi i'm ellie thanks for...</td>\n",
              "    </tr>\n",
              "    <tr>\n",
              "      <th>1</th>\n",
              "      <td>32.738\\t33.068\\tParticipant\\tthank you</td>\n",
              "    </tr>\n",
              "    <tr>\n",
              "      <th>2</th>\n",
              "      <td>36.598\\t40.948\\tEllie\\tthink of me as a friend...</td>\n",
              "    </tr>\n",
              "    <tr>\n",
              "      <th>3</th>\n",
              "      <td>42.088\\t42.518\\tParticipant\\tmmm k</td>\n",
              "    </tr>\n",
              "    <tr>\n",
              "      <th>4</th>\n",
              "      <td>42.358\\t51.738\\tEllie\\ti'm here to learn about...</td>\n",
              "    </tr>\n",
              "  </tbody>\n",
              "</table>\n",
              "</div>\n",
              "      <button class=\"colab-df-convert\" onclick=\"convertToInteractive('df-c064b023-4620-42cf-8144-190d9e740397')\"\n",
              "              title=\"Convert this dataframe to an interactive table.\"\n",
              "              style=\"display:none;\">\n",
              "        \n",
              "  <svg xmlns=\"http://www.w3.org/2000/svg\" height=\"24px\"viewBox=\"0 0 24 24\"\n",
              "       width=\"24px\">\n",
              "    <path d=\"M0 0h24v24H0V0z\" fill=\"none\"/>\n",
              "    <path d=\"M18.56 5.44l.94 2.06.94-2.06 2.06-.94-2.06-.94-.94-2.06-.94 2.06-2.06.94zm-11 1L8.5 8.5l.94-2.06 2.06-.94-2.06-.94L8.5 2.5l-.94 2.06-2.06.94zm10 10l.94 2.06.94-2.06 2.06-.94-2.06-.94-.94-2.06-.94 2.06-2.06.94z\"/><path d=\"M17.41 7.96l-1.37-1.37c-.4-.4-.92-.59-1.43-.59-.52 0-1.04.2-1.43.59L10.3 9.45l-7.72 7.72c-.78.78-.78 2.05 0 2.83L4 21.41c.39.39.9.59 1.41.59.51 0 1.02-.2 1.41-.59l7.78-7.78 2.81-2.81c.8-.78.8-2.07 0-2.86zM5.41 20L4 18.59l7.72-7.72 1.47 1.35L5.41 20z\"/>\n",
              "  </svg>\n",
              "      </button>\n",
              "      \n",
              "  <style>\n",
              "    .colab-df-container {\n",
              "      display:flex;\n",
              "      flex-wrap:wrap;\n",
              "      gap: 12px;\n",
              "    }\n",
              "\n",
              "    .colab-df-convert {\n",
              "      background-color: #E8F0FE;\n",
              "      border: none;\n",
              "      border-radius: 50%;\n",
              "      cursor: pointer;\n",
              "      display: none;\n",
              "      fill: #1967D2;\n",
              "      height: 32px;\n",
              "      padding: 0 0 0 0;\n",
              "      width: 32px;\n",
              "    }\n",
              "\n",
              "    .colab-df-convert:hover {\n",
              "      background-color: #E2EBFA;\n",
              "      box-shadow: 0px 1px 2px rgba(60, 64, 67, 0.3), 0px 1px 3px 1px rgba(60, 64, 67, 0.15);\n",
              "      fill: #174EA6;\n",
              "    }\n",
              "\n",
              "    [theme=dark] .colab-df-convert {\n",
              "      background-color: #3B4455;\n",
              "      fill: #D2E3FC;\n",
              "    }\n",
              "\n",
              "    [theme=dark] .colab-df-convert:hover {\n",
              "      background-color: #434B5C;\n",
              "      box-shadow: 0px 1px 3px 1px rgba(0, 0, 0, 0.15);\n",
              "      filter: drop-shadow(0px 1px 2px rgba(0, 0, 0, 0.3));\n",
              "      fill: #FFFFFF;\n",
              "    }\n",
              "  </style>\n",
              "\n",
              "      <script>\n",
              "        const buttonEl =\n",
              "          document.querySelector('#df-c064b023-4620-42cf-8144-190d9e740397 button.colab-df-convert');\n",
              "        buttonEl.style.display =\n",
              "          google.colab.kernel.accessAllowed ? 'block' : 'none';\n",
              "\n",
              "        async function convertToInteractive(key) {\n",
              "          const element = document.querySelector('#df-c064b023-4620-42cf-8144-190d9e740397');\n",
              "          const dataTable =\n",
              "            await google.colab.kernel.invokeFunction('convertToInteractive',\n",
              "                                                     [key], {});\n",
              "          if (!dataTable) return;\n",
              "\n",
              "          const docLinkHtml = 'Like what you see? Visit the ' +\n",
              "            '<a target=\"_blank\" href=https://colab.research.google.com/notebooks/data_table.ipynb>data table notebook</a>'\n",
              "            + ' to learn more about interactive tables.';\n",
              "          element.innerHTML = '';\n",
              "          dataTable['output_type'] = 'display_data';\n",
              "          await google.colab.output.renderOutput(dataTable, element);\n",
              "          const docLink = document.createElement('div');\n",
              "          docLink.innerHTML = docLinkHtml;\n",
              "          element.appendChild(docLink);\n",
              "        }\n",
              "      </script>\n",
              "    </div>\n",
              "  </div>\n",
              "  "
            ]
          },
          "metadata": {},
          "execution_count": 7
        }
      ]
    },
    {
      "cell_type": "code",
      "source": [
        "list1 = group_1.values.tolist()\n",
        "list2 = group_2.values.tolist()"
      ],
      "metadata": {
        "id": "evaMkbAO57V5"
      },
      "execution_count": 8,
      "outputs": []
    },
    {
      "cell_type": "code",
      "source": [
        "print(list1)"
      ],
      "metadata": {
        "colab": {
          "base_uri": "https://localhost:8080/"
        },
        "id": "pWUvvbQD7Ha0",
        "outputId": "0df7b05a-7ffe-44f6-e557-8f0da61db114"
      },
      "execution_count": 9,
      "outputs": [
        {
          "output_type": "stream",
          "name": "stdout",
          "text": [
            "[[\"36.588\\t39.668\\tEllie\\thi i'm ellie thanks for coming in today\"], ['39.888\\t43.378\\tEllie\\ti was created to talk to people in a safe and secure environment'], [\"43.728\\t48.498\\tEllie\\tthink of me as a friend i don't judge i can't i'm a computer\"], [\"49.188\\t52.388\\tEllie\\ti'm here to learn about people and would love to learn about you\"], [\"52.658\\t58.958\\tEllie\\ti'll ask a few questions to get us started and please feel free to tell me anything your answers are totally confidential\"], ['60.028\\t61.378\\tEllie\\thow are you doing today'], ['62.328\\t63.178\\tParticipant\\tgood'], [\"63.798\\t64.738\\tEllie\\tthat's good\"], ['65.858\\t67.528\\tEllie\\twhere are you from originally'], ['68.978\\t70.288\\tParticipant\\tatlanta georgia'], ['70.978\\t71.868\\tEllie\\treally'], [\"72.788\\t74.198\\tEllie\\twhy'd you move to l_a\"], ['75.028\\t78.128\\tParticipant\\tum my parents are from here um'], ['82.218\\t83.578\\tEllie\\thow do you like l_a'], ['83.808\\t84.588\\tParticipant\\ti love it'], ['85.558\\t87.898\\tEllie\\twhat are some things you really like about l_a'], ['88.458\\t89.968\\tParticipant\\ti like the weather'], ['90.278\\t93.568\\tParticipant\\ti like the opportunities'], ['94.738\\t95.298\\tParticipant\\tum'], ['96.588\\t97.278\\tParticipant\\tyes'], ['98.228\\t100.868\\tEllie\\thow easy was it for you to get used to living in l_a'], ['102.428\\t103.268\\tParticipant\\tum'], ['104.278\\t105.558\\tParticipant\\tit took a minute'], ['107.738\\t108.798\\tParticipant\\tsomewhat easy'], [\"110.788\\t113.168\\tEllie\\twhat are some things you don't really like about l_a\"], ['114.038\\t115.558\\tParticipant\\tcongestion'], ['119.218\\t119.978\\tEllie\\tmhm'], [\"120.268\\t121.158\\tParticipant\\tthat's it\"], ['122.828\\t123.768\\tEllie\\tokay'], [\"125.548\\t126.958\\tEllie\\twhat'd you study at school\"], ['128.488\\t132.628\\tParticipant\\tum i took up business and administration'], ['133.718\\t134.438\\tEllie\\tcool'], ['134.818\\t136.178\\tEllie\\tare you still doing that'], ['136.748\\t139.418\\tParticipant\\tuh yeah i am'], [\"139.868\\t144.548\\tParticipant\\there and there i'm on a break right now but i plan on going back in the uh next semester\"], [\"146.008\\t147.468\\tEllie\\twhat's your dream job\"], ['149.258\\t152.168\\tParticipant\\tuh probably to open up my own business'], ['155.698\\t156.678\\tEllie\\tawesome'], ['159.448\\t160.858\\tEllie\\tdo you travel a lot'], ['161.248\\t162.068\\tParticipant\\tno'], ['163.618\\t164.328\\tEllie\\twhy'], ['165.608\\t168.968\\tParticipant\\tum no specific reason i just'], [\"169.518\\t170.978\\tParticipant\\tdon't travel a lot\"], [\"171.308\\t172.978\\tParticipant\\ti'm pretty local\"], ['174.148\\t174.968\\tEllie\\tokay'], ['175.558\\t177.668\\tEllie\\thow often do you go back to your hometown'], ['178.578\\t179.918\\tParticipant\\tonce a year'], ['182.508\\t183.268\\tEllie\\tnice'], ['184.998\\t186.858\\tEllie\\tdo you consider yourself an introvert'], ['189.098\\t191.068\\tParticipant\\tcan you be a little bit more specific'], ['193.678\\t195.248\\tEllie\\twhatever comes to your mind'], ['196.868\\t197.998\\tParticipant\\tno answer'], ['199.288\\t200.088\\tEllie\\tokay'], ['200.818\\t202.398\\tEllie\\t what do you do to relax'], ['203.318\\t206.358\\tParticipant\\ti like reading books i enjoy i enjoy cooking'], ['206.728\\t208.658\\tParticipant\\tum exercising is great'], ['211.648\\t212.618\\tEllie\\tawesome'], ['213.878\\t216.068\\tEllie\\thow are you at controlling your temper'], [\"217.728\\t219.868\\tParticipant\\ti'm i'm i'm pretty good at it\"], ['220.228\\t221.058\\tParticipant\\tum'], ['221.358\\t222.068\\tEllie\\treally'], ['221.358\\t222.068\\tParticipant\\tyeah'], ['223.708\\t227.208\\tEllie\\twhen was the last time you argued with someone and what was it about'], ['227.998\\t230.118\\tParticipant\\tum probably about'], ['231.088\\t232.368\\tParticipant\\ttwo weeks ago'], ['235.458\\t237.378\\tEllie\\thow did you feel in that moment'], ['238.298\\t240.168\\tParticipant\\tuh frustrated'], ['242.218\\t243.518\\tEllie\\ttell me more about that'], ['244.748\\t245.808\\tParticipant\\tum'], [\"246.338\\t247.918\\tParticipant\\ti don't like bias\"], [\"248.488\\t252.298\\tParticipant\\tum i don't like um when someone says they're gonna do something and they don't\"], ['252.938\\t253.678\\tEllie\\tmhm'], ['257.578\\t258.848\\tEllie\\thow close are you to them'], ['260.238\\t261.168\\tParticipant\\tuh somewhat'], ['262.748\\t263.938\\tEllie\\thow do you know them'], ['266.918\\t267.988\\tParticipant\\tfriendship'], ['269.898\\t270.658\\tEllie\\tokay'], ['274.918\\t276.788\\tEllie\\twhat are some things you like to do for fun'], ['279.618\\t285.988\\tParticipant\\ti like to play sports i enjoy uh going out with friends and family'], ['286.918\\t288.078\\tParticipant\\tplaying games'], ['288.858\\t289.678\\tEllie\\tnice'], [\"290.868\\t293.268\\tEllie\\twho's someone that's been a positive influence in your life\"], ['294.678\\t295.778\\tParticipant\\tgrandparents'], ['296.648\\t297.618\\tParticipant\\tparents'], ['298.928\\t299.668\\tEllie\\taww'], ['302.228\\t303.498\\tEllie\\tcan you tell me about that'], [\"305.218\\t309.358\\tParticipant\\tum yeah i mean they've always given me great advice\"], [\"310.538\\t312.208\\tParticipant\\tthey've always kept it real\"], ['314.148\\t316.388\\tEllie\\thow close are you to your family'], ['316.868\\t318.008\\tParticipant\\treal close'], ['322.918\\t324.388\\tEllie\\tis there anything you regret'], ['325.738\\t333.468\\tParticipant\\ti would say going to college right after high school'], ['334.268\\t335.058\\tEllie\\twhy'], [\"336.988\\t339.728\\tParticipant\\twell i would've been done by now you know\"], ['340.568\\t344.168\\tParticipant\\ti would have been probably out in the field'], ['344.788\\t346.068\\tParticipant\\tin the career field'], ['347.178\\t348.808\\tEllie\\twhat made you decide to do that'], ['349.998\\t351.988\\tParticipant\\tuh taking a job off the street'], ['354.178\\t356.448\\tEllie\\tcould you have done anything to avoid it'], [\"357.818\\t360.198\\tParticipant\\ti'm sure i could've yes\"], [\"363.928\\t366.448\\tEllie\\twhat's one of your most memorable experiences\"], [\"372.098\\t373.218\\tParticipant\\ti'm not sure\"], ['373.588\\t375.488\\tParticipant\\tmaybe when i graduated from high school'], ['377.588\\t378.288\\tEllie\\tyeah'], [\"381.848\\t383.678\\tEllie\\ti'd love to hear all about it\"], ['386.728\\t390.328\\tParticipant\\twell uh i um i got my diploma'], ['390.748\\t395.448\\tParticipant\\tmy my diploma that i finished school and i met all the requirements '], ['396.628\\t397.708\\tParticipant\\thigh school'], ['398.588\\t399.988\\tParticipant\\tand i was approved to go'], ['401.208\\t402.878\\tParticipant\\tdo whatever i wanted to do'], [\"403.468\\t404.498\\tEllie\\tthat's great\"], [\"406.968\\t408.618\\tEllie\\twhat's it like for you living with them\"], ['409.408\\t410.428\\tParticipant\\tliving with who'], ['411.438\\t413.158\\tEllie\\thow do you like your living situation'], [\"414.148\\t416.448\\tParticipant\\tum it's alright it could be better\"], ['417.418\\t418.688\\tEllie\\tdo you have roommates'], ['417.428\\t417.858\\tParticipant\\tnot'], ['419.038\\t419.508\\tParticipant\\tno'], [\"420.608\\t421.748\\tEllie\\tthat's good\"], [\"426.758\\t429.278\\tEllie\\thow easy is it for you to get a good night's sleep\"], [\"430.858\\t432.458\\tParticipant\\tuh it's pretty easy\"], ['433.978\\t435.538\\tEllie\\tdo you feel that way often'], ['436.538\\t437.598\\tParticipant\\tuh yes'], [\"438.558\\t440.548\\tEllie\\twhat are you like when you don't sleep well\"], ['448.468\\t449.568\\tParticipant\\trepeat that'], [\"450.498\\t452.478\\tEllie\\twhat are you like when you don't sleep well\"], ['453.188\\t455.558\\tParticipant\\tirritated um'], ['457.348\\t458.258\\tParticipant\\tlazy'], ['462.288\\t463.488\\tEllie\\tdo you feel down'], ['463.868\\t464.468\\tParticipant\\tno'], [\"466.278\\t467.108\\tEllie\\tthat's good\"], ['468.348\\t470.378\\tEllie\\thave you been diagnosed with depression'], ['470.658\\t471.348\\tParticipant\\tno'], ['471.878\\t474.188\\tEllie\\thave you ever been diagnosed with p_t_s_d'], ['474.638\\t475.248\\tParticipant\\tno'], ['475.948\\t477.648\\tEllie\\thave you ever served in the military'], ['477.868\\t478.478\\tParticipant\\tno'], ['479.228\\t480.088\\tEllie\\tokay'], ['487.698\\t490.348\\tEllie\\twhen was the last time you felt really happy'], ['492.328\\t494.708\\tParticipant\\tum the other day'], ['496.448\\t497.608\\tEllie\\ttell me more about that'], ['499.508\\t502.038\\tParticipant\\tweather was great sun was out'], ['503.878\\t505.988\\tEllie\\tthat sounds like a great situation'], [\"507.578\\t509.258\\tEllie\\twhat do you think of today's kids\"], ['511.028\\t511.888\\tParticipant\\tdifferent'], ['515.528\\t517.188\\tEllie\\tcan you give me an example of that'], ['525.478\\t526.528\\tParticipant\\tless'], ['527.978\\t529.288\\tParticipant\\tless um'], ['530.038\\t531.008\\tParticipant\\tinterested'], ['533.118\\t534.128\\tEllie\\t[laughter]'], ['535.148\\t536.268\\tEllie\\ti see what you mean'], [\"544.928\\t546.488\\tEllie\\twhat do you do when you're annoyed\"], ['548.568\\t550.018\\tParticipant\\tuh shut down'], ['553.558\\t555.528\\tEllie\\twhen was the last time that happened'], ['559.768\\t562.228\\tParticipant\\tuh about two weeks ago'], ['564.208\\t564.818\\tEllie\\tmhm'], ['566.098\\t567.478\\tEllie\\tcan you tell me about that'], ['568.678\\t571.798\\tParticipant\\tuh yeah a friend of mine was annoying me and i just'], ['572.458\\t573.568\\tParticipant\\tcut them off'], [\"574.868\\t576.008\\tEllie\\ti'm sorry\"], [\"576.178\\t577.558\\tParticipant\\t[laughter] it's alright\"], ['579.098\\t580.348\\tEllie\\thow do you know them'], ['581.178\\t582.128\\tParticipant\\tfriendship'], ['583.928\\t584.558\\tEllie\\tcool'], ['589.148\\t590.918\\tEllie\\thow would your best friend describe you'], ['598.238\\t599.708\\tParticipant\\tchocolate'], ['600.608\\t601.378\\tParticipant\\ttall'], ['601.718\\t602.688\\tEllie\\t[laughter]'], ['602.738\\t603.478\\tParticipant\\tthin'], ['610.398\\t611.098\\tEllie\\tokay'], [\"614.228\\t616.878\\tEllie\\tokay i think i've asked everything i need to\"], ['618.308\\t619.078\\tParticipant\\tthank you'], ['619.488\\t620.348\\tEllie\\tgoodbye'], ['620.538\\t621.268\\tParticipant\\tbye bye']]\n"
          ]
        }
      ]
    },
    {
      "cell_type": "code",
      "source": [
        "print(list2)"
      ],
      "metadata": {
        "colab": {
          "base_uri": "https://localhost:8080/"
        },
        "id": "ck-5e_lB7TvZ",
        "outputId": "83869861-f615-4138-9850-710721cfd4d8"
      },
      "execution_count": 10,
      "outputs": [
        {
          "output_type": "stream",
          "name": "stdout",
          "text": [
            "[[\"29.428\\t35.888\\tEllie\\thi i'm ellie thanks for coming in today i was created to talk to people in a safe and secure environment\"], ['32.738\\t33.068\\tParticipant\\tthank you'], [\"36.598\\t40.948\\tEllie\\tthink of me as a friend i don't judge i can't i'm a computer\"], ['42.088\\t42.518\\tParticipant\\tmmm k'], [\"42.358\\t51.738\\tEllie\\ti'm here to learn about people and would love to learn about you i'll ask a few questions to get us started and please feel free to tell me anything your answers are totally confidential\"], ['52.928\\t53.868\\tEllie\\thow are you doing today'], [\"54.328\\t55.758\\tParticipant\\ti'm doing good thank you\"], [\"55.938\\t56.378\\tEllie\\tthat's good\"], ['58.308\\t59.518\\tEllie\\twhere are you from originally'], [\"59.858\\t60.948\\tParticipant\\ti'm from los angeles\"], ['61.718\\t63.048\\tEllie\\treally me too'], ['63.538\\t64.108\\tParticipant\\toh great'], ['66.308\\t67.028\\tEllie\\twhere do you live'], ['67.388\\t69.858\\tParticipant\\ti live in west los angeles the west side'], ['70.828\\t71.458\\tEllie\\tnice'], ['72.638\\t74.168\\tEllie\\thow do you like your living situation'], [\"74.678\\t75.248\\tParticipant\\tit's alright\"], ['76.398\\t76.708\\tParticipant\\ti xxx'], ['76.578\\t77.738\\tEllie\\tdo you have roommates'], ['78.218\\t79.588\\tParticipant\\tno i live alone so'], [\"81.208\\t81.978\\tEllie\\tthat's great\"], ['83.818\\t84.878\\tEllie\\thow do you like l_a'], [\"85.398\\t89.468\\tParticipant\\ti love it i'm from here so i grew up here it's natural\"], ['90.778\\t91.168\\tEllie\\tyeah'], ['92.508\\t94.528\\tEllie\\twhat are some things you really like about l_a'], ['95.388\\t98.598\\tParticipant\\tthe weather um well the weather'], [\"99.728\\t107.748\\tParticipant\\tit's always good it's never it's never bad uh um there's always something to do it's rarely a dull moment\"], ['100.458\\t101.288\\tEllie\\t<laughter>'], ['108.638\\t108.998\\tEllie\\tmhm'], [\"109.848\\t111.858\\tEllie\\twhat are some things you don't really like about l_a\"], ['112.268\\t113.068\\tParticipant\\tthe traffic'], ['115.248\\t116.128\\tEllie\\ti see what you mean'], ['116.188\\t122.918\\tParticipant\\tthe traffic is horrible well probably traffic is horrible in almost any major city but i hate the traffic'], ['122.438\\t122.828\\tEllie\\tyeah'], ['125.078\\t126.068\\tEllie\\tdo you travel a lot'], [\"126.698\\t135.338\\tParticipant\\tnot really i mean i have enough things going on here so if i travel it's usually somewhere that's within driving distance\"], ['136.468\\t137.838\\tEllie\\taw okay'], [\"140.108\\t141.248\\tEllie\\twhat'd you study at school\"], ['142.168\\t144.338\\tParticipant\\ti studied uh business'], ['145.058\\t145.518\\tParticipant\\ti did'], ['145.358\\t146.308\\tEllie\\tare you still doing that'], [\"146.708\\t151.218\\tParticipant\\tno i've i've been done for a few years so i haven't gone to school for a while\"], [\"151.928\\t154.488\\tParticipant\\tone of these days i'll go back to graduate school but\"], ['157.378\\t158.068\\tEllie\\tawesome'], [\"159.118\\t160.278\\tEllie\\twhat's your dream job\"], ['161.458\\t166.668\\tParticipant\\tmy dream job would be to just work for myself and making lots of money um'], [\"168.078\\t172.408\\tParticipant\\ti don't know i don't really have a dream job just something that i can\"], ['173.438\\t181.178\\tParticipant\\ti can work under my own terms and get paid decently and and be in a creative creative environment'], ['182.638\\t182.998\\tEllie\\tmhm'], ['183.718\\t184.658\\tEllie\\thow hard is that'], ['185.978\\t186.758\\tParticipant\\tum'], [\"188.908\\t206.318\\tParticipant\\ti don't know i think it's just a matter of finding the right situation so right now eh it's been people are a little conservative about what they want so and how they want it so it's a little tougher than it seems <se> it should be but i don't know i think when the situation's right i don't think it's too difficult\"], ['207.678\\t207.988\\tEllie\\tyeah'], ['208.728\\t210.898\\tEllie\\tit can be tough to find a good job these days'], ['211.108\\t211.438\\tParticipant\\tyep'], ['212.028\\t212.888\\tEllie\\twhat do you do now'], ['213.688\\t217.938\\tParticipant\\ti work as an assistant <as> administrative assistant through a temp agency so'], [\"219.488\\t222.118\\tParticipant\\tit's just basically i get sent out to do uh\"], ['219.898\\t220.228\\tEllie\\tcool'], ['223.118\\t224.508\\tParticipant\\tto do desk jobs '], ['225.468\\t226.448\\tEllie\\tare you happy you did that'], ['227.338\\t234.948\\tParticipant\\tum yes and no i mean i feel like i feel like i could do more but you know it works so '], ['236.228\\t236.968\\tParticipant\\tyou know yeah'], ['236.568\\t236.938\\tEllie\\tokay'], ['239.878\\t241.418\\tEllie\\thow close are you to your family'], [\"242.008\\t244.708\\tParticipant\\ti'm pretty close i mean they're around so\"], ['249.738\\t250.268\\tEllie\\thmm'], ['253.958\\t256.058\\tEllie\\twhat are some things that make you really mad'], ['257.418\\t259.938\\tParticipant\\tum god really mad'], ['261.208\\t266.238\\tParticipant\\tstupid people just basically doing just doing anything to annoy me'], ['267.068\\t267.798\\tParticipant\\tum'], [\"269.098\\t278.598\\tParticipant\\tthat's basically <ba> that's the big thing just just irritating stupid people <laughter> who just do things just to provoke provoke me for no reason at all\"], ['279.408\\t279.778\\tEllie\\tmhm'], ['280.208\\t281.438\\tEllie\\tcan you give me an example of that'], [\"283.018\\t285.558\\tParticipant\\tum what's a good example\"], [\"287.098\\t295.308\\tParticipant\\tjust random people who who think it's funny to just sit there and get a rise out of me just it doesn't have to be one any specific\"], [\"296.338\\t312.268\\tParticipant\\tsituation it's just people who just think it's funny to i think they're just generally sadistic and they just think it's it's funny to to just prod you like it's like poking a stick at an angry dog knowing that they know how to they just wanna push your buttons for no reason so\"], ['313.018\\t313.338\\tEllie\\tright'], ['314.188\\t315.698\\tEllie\\twhen was the last time that happened'], ['317.728\\t321.138\\tParticipant\\tuh god'], [\"322.648\\t334.408\\tParticipant\\ti don't remember i with those situations i usually try not to remember <laughter> when when it happens i just i just let it go and just like the past is the past i just tend not to look back\"], ['335.078\\t335.908\\tEllie\\ti understand'], ['336.978\\t338.478\\tEllie\\tdo you consider yourself an introvert'], ['339.648\\t340.278\\tParticipant\\twhat do you mean'], [\"344.478\\t345.838\\tEllie\\tlet's come back to that later\"], ['345.848\\t346.248\\tParticipant\\tokay'], ['347.078\\t348.408\\tEllie\\twhat do you do to relax'], ['349.438\\t354.278\\tParticipant\\tgod what do i do to relax i like to run i like to go to the gym'], [\"355.648\\t362.088\\tParticipant\\tlisten to music i have a lot of musician friends so i just so i'm usually around musicians so\"], ['363.198\\t364.558\\tParticipant\\tanything of that sort i like'], [\"365.608\\t373.528\\tParticipant\\ti like everything from punk rock art to tattoos to just anything that's that's generally art and creative\"], ['374.458\\t375.118\\tEllie\\tawesome'], [\"377.488\\t379.838\\tEllie\\twho's someone that's been a positive influence in your life\"], [\"381.198\\t382.278\\tParticipant\\twho's been a positive <pos>\"], [\"384.158\\t392.208\\tParticipant\\ti think it's just friends in general who who seem to who seem to do well and i think they they're very inspiring and\"], [\"393.298\\t402.478\\tParticipant\\twhich is sometimes a a bit tough in in a town like los angeles where i think everybody's on the go trying to accomplish their own goals so they don't\"], ['402.718\\t403.098\\tEllie\\tmhm'], [\"403.148\\t409.858\\tParticipant\\tit's sometimes hard to find someone who's gonna be uplifting or try to be inspiring so\"], [\"410.938\\t416.708\\tParticipant\\ti don't really have anybody in particular but people have kind of brought up things here and there\"], ['418.748\\t419.318\\tEllie\\tlike what'], [\"420.078\\t436.018\\tParticipant\\tyou know just like hey instead of instead of doing this how about doing that or hey you're good at this why aren't you doing that or something like that just you know i'm always looking for new opportunities so they always point out things that maybe i might i could do differently\"], [\"436.528\\t443.208\\tParticipant\\tinstead of just being negative saying hey don't do that that's no that's why are you doing that it's a waste of time\"], ['444.388\\t444.738\\tEllie\\tmmm'], [\"445.238\\t445.748\\tEllie\\tthat's good\"], ['448.588\\t450.428\\tEllie\\thow are you at controlling your temper'], ['451.948\\t455.628\\tParticipant\\tum i guess it depends on who you talk to'], ['457.468\\t458.208\\tEllie\\t<laughter>'], [\"457.888\\t463.068\\tParticipant\\ti'm i'm okay at it i could probably work at that\"], ['464.048\\t464.648\\tParticipant\\tum'], [\"465.538\\t469.728\\tParticipant\\ti don't know i mean i can i i think i can do better at it\"], ['470.858\\t472.138\\tEllie\\tcan you give me an example of that'], ['473.298\\t484.118\\tParticipant\\twell back to the point about people provoking me so i mean i try not to blow steam and let them get under my skin so i just usually try not to let it get to me'], [\"484.988\\t489.698\\tParticipant\\tbut i don't know i guess with temper i guess it depends on how i handle my stress\"], [\"490.438\\t495.248\\tParticipant\\tlately i've been better at it just because i think my situation's been a little bit better\"], [\"497.098\\t497.688\\tEllie\\tthat's good\"], ['501.898\\t503.618\\tEllie\\thave you been diagnosed with depression'], ['504.238\\t504.628\\tParticipant\\tno'], ['505.798\\t507.738\\tEllie\\thave you ever been diagnosed with p_t_s_d'], ['508.218\\t508.618\\tParticipant\\tno'], ['509.498\\t511.028\\tEllie\\thave you ever served in the military'], ['511.298\\t511.628\\tParticipant\\tno'], ['512.738\\t513.138\\tEllie\\tokay'], ['515.378\\t516.408\\tEllie\\tis there anything you regret'], ['518.208\\t519.448\\tParticipant\\tum'], ['520.658\\t521.578\\tParticipant\\tnothing major'], [\"522.448\\t533.018\\tParticipant\\ti mean maybe when i was younger i could've traveled more or i could've worked towards something that paid better job-wise but i mean\"], [\"533.708\\t540.138\\tParticipant\\tthose are all things that i think at any point in life you always think like well i coulda shoulda would've done but you know\"], [\"541.278\\t552.838\\tParticipant\\tbut then again i think that's natural for anybody i mean i could i could've become a banker or i could've become a lawyer or a doctor and made about ten times the money that i make now but\"], [\"553.538\\t559.818\\tParticipant\\tbut then again i don't like the law and i don't like medicine so so i'm it wasn't meant to be so\"], ['560.518\\t560.828\\tEllie\\tright'], [\"561.808\\t563.778\\tEllie\\tthere are always trade offs in life aren't there\"], ['563.948\\t564.398\\tParticipant\\tyeah'], ['565.188\\t566.548\\tEllie\\twhat made you decide to do that'], ['565.218\\t565.468\\tParticipant\\tso'], ['567.718\\t568.748\\tParticipant\\tum i think'], ['569.918\\t570.658\\tParticipant\\ti think my'], ['571.488\\t573.608\\tParticipant\\tin my life i knew that'], [\"574.368\\t590.858\\tParticipant\\ti there's a lot of things i have <ha> there's more dislikes <laughter> than likes so i kinda narrowed it down to what am i good at and what am i not good at and what am i gonna work well or who who am i gonna work well with and who will i not work well with\"], ['591.348\\t595.318\\tParticipant\\tso i kind of i kinda sorted out and then the list kind of'], ['596.498\\t598.648\\tParticipant\\tmmm kind of answered itself so'], ['599.658\\t600.998\\tEllie\\tthat sounds really hard'], [\"602.078\\t616.388\\tParticipant\\tno it i don't think it was hard but it was just but i think it was a real reality check and i think it it's kind of a good thing 'cause sometimes trying to conform to doing things that doesn't really fit you doesn't make sense\"], [\"616.738\\t631.878\\tParticipant\\tit's like trying to shove a a round peg into a square a square hole and it's like it just no matter how you try to shove it in it's not gonna go in so sometimes it's just might as well go down a path that seems to work better for you\"], ['633.018\\t633.288\\tEllie\\tright'], ['633.918\\t634.848\\tEllie\\tthat makes sense'], [\"638.598\\t640.838\\tEllie\\twhat's one of your most memorable experiences\"], ['642.398\\t646.818\\tParticipant\\tmemorable experiences um hmm'], [\"650.488\\t665.948\\tParticipant\\ti think it's just i don't really have like any one in particular i think i think every day is almost like a memorable experience whether it's positive or negative i think it's just everything from getting it just just the fact that\"], [\"667.058\\t679.768\\tParticipant\\ti got a job and i can i can take care of myself is already almost like a memorable experience maybe for the average person it it sounds stupid but you know i think just the fact that i'm able\"], [\"680.588\\t688.298\\tParticipant\\ti'm able to get this far in life without like completely self-destructing is already an accomplishment so i feel like\"], [\"689.468\\t690.498\\tParticipant\\ti've gotten somewhere\"], [\"691.578\\t692.328\\tEllie\\tthat's great\"], [\"691.628\\t700.358\\tParticipant\\tmaybe not to not maybe not to the point to the average person they might think like well why aren't you a millionaire but you know what not everybody can be a millionaire\"], ['701.508\\t701.878\\tEllie\\tyeah'], ['703.828\\t704.628\\tEllie\\ti see what you mean'], ['704.798\\t705.218\\tParticipant\\tyeah'], ['709.968\\t712.398\\tEllie\\twhen was the last time you felt really happy'], ['714.098\\t715.168\\tParticipant\\tum'], ['716.108\\t718.408\\tParticipant\\twhen was the last time i really felt happy'], ['719.978\\t721.358\\tParticipant\\tum'], [\"722.488\\t725.798\\tParticipant\\ti don't know i'm not really someone who's like\"], [\"727.038\\t732.338\\tParticipant\\ti don't have any real high highs or low lows i mean i haven't hit any lows so i mean i\"], [\"733.908\\t742.868\\tParticipant\\ti don't know i'm usually pretty i feel like i'm a level person and i'm pretty happy <ha> every day i feel like if i accomplish one thing then i'm pretty happy so\"], ['743.548\\t745.318\\tParticipant\\ti guess to answer the question probably'], [\"746.718\\t753.888\\tParticipant\\tmmm probably yesterday i just feel like if i if i'm able to accomplish something then then hey i'm happy\"], [\"755.188\\t755.978\\tEllie\\tthat's great\"], ['757.798\\t759.348\\tEllie\\thow would your best friend describe you'], [\"760.978\\t766.638\\tParticipant\\ti don't know i don't really have a best friend but i mean i well to answer the question generally friends\"], [\"767.758\\t771.618\\tParticipant\\ti think they would say that i'm very <ver> pretty outgoing i'm pretty\"], ['772.648\\t773.438\\tParticipant\\tdetermined'], [\"774.748\\t782.358\\tParticipant\\ti'm trying you know i try to you know i try to interact as much as possible i'm always out networking as much as possible\"], ['783.178\\t783.648\\tParticipant\\tso'], [\"784.788\\t790.018\\tParticipant\\ti don't know i guess that's basically what i think they would describe me as\"], ['791.338\\t791.848\\tEllie\\tokay'], [\"795.508\\t797.868\\tEllie\\tokay i think i've asked everything i need to\"], ['797.918\\t798.338\\tParticipant\\tokay'], ['799.208\\t800.658\\tEllie\\tthanks for sharing your thoughts with me'], ['800.678\\t801.278\\tParticipant\\tno problem'], ['801.828\\t802.358\\tEllie\\tgoodbye'], ['802.388\\t802.828\\tParticipant\\talright'], ['803.458\\t803.828\\tParticipant\\tbye']]\n"
          ]
        }
      ]
    },
    {
      "cell_type": "code",
      "source": [
        "list1 = str(list1)\n",
        "list2 = str(list2)"
      ],
      "metadata": {
        "id": "UN0SDMQ3AvCC"
      },
      "execution_count": 11,
      "outputs": []
    },
    {
      "cell_type": "code",
      "source": [
        "list1 = [i.replace(\"\\\\\", \"\") for i in list1 ]\n",
        "list2 = [i.replace(\"\\\\\", \"\") for i in list2 ]"
      ],
      "metadata": {
        "id": "e_8-rsJq8Rcu"
      },
      "execution_count": 12,
      "outputs": []
    },
    {
      "cell_type": "code",
      "source": [
        "list1 = \"\".join(list1)\n",
        "list2 = \"\".join(list2)"
      ],
      "metadata": {
        "id": "v2sZmaRyB5Ht"
      },
      "execution_count": 13,
      "outputs": []
    },
    {
      "cell_type": "code",
      "source": [
        "print(list1)\n",
        "print(list2)"
      ],
      "metadata": {
        "colab": {
          "base_uri": "https://localhost:8080/"
        },
        "id": "hlehXSZHDAgu",
        "outputId": "75ad572a-4c0d-4591-dcce-24ca843da2f9"
      },
      "execution_count": 14,
      "outputs": [
        {
          "output_type": "stream",
          "name": "stdout",
          "text": [
            "[[\"36.588t39.668tElliethi i'm ellie thanks for coming in today\"], ['39.888t43.378tEllieti was created to talk to people in a safe and secure environment'], [\"43.728t48.498tEllietthink of me as a friend i don't judge i can't i'm a computer\"], [\"49.188t52.388tEllieti'm here to learn about people and would love to learn about you\"], [\"52.658t58.958tEllieti'll ask a few questions to get us started and please feel free to tell me anything your answers are totally confidential\"], ['60.028t61.378tElliethow are you doing today'], ['62.328t63.178tParticipanttgood'], [\"63.798t64.738tEllietthat's good\"], ['65.858t67.528tEllietwhere are you from originally'], ['68.978t70.288tParticipanttatlanta georgia'], ['70.978t71.868tEllietreally'], [\"72.788t74.198tEllietwhy'd you move to l_a\"], ['75.028t78.128tParticipanttum my parents are from here um'], ['82.218t83.578tElliethow do you like l_a'], ['83.808t84.588tParticipantti love it'], ['85.558t87.898tEllietwhat are some things you really like about l_a'], ['88.458t89.968tParticipantti like the weather'], ['90.278t93.568tParticipantti like the opportunities'], ['94.738t95.298tParticipanttum'], ['96.588t97.278tParticipanttyes'], ['98.228t100.868tElliethow easy was it for you to get used to living in l_a'], ['102.428t103.268tParticipanttum'], ['104.278t105.558tParticipanttit took a minute'], ['107.738t108.798tParticipanttsomewhat easy'], [\"110.788t113.168tEllietwhat are some things you don't really like about l_a\"], ['114.038t115.558tParticipanttcongestion'], ['119.218t119.978tEllietmhm'], [\"120.268t121.158tParticipanttthat's it\"], ['122.828t123.768tEllietokay'], [\"125.548t126.958tEllietwhat'd you study at school\"], ['128.488t132.628tParticipanttum i took up business and administration'], ['133.718t134.438tEllietcool'], ['134.818t136.178tEllietare you still doing that'], ['136.748t139.418tParticipanttuh yeah i am'], [\"139.868t144.548tParticipantthere and there i'm on a break right now but i plan on going back in the uh next semester\"], [\"146.008t147.468tEllietwhat's your dream job\"], ['149.258t152.168tParticipanttuh probably to open up my own business'], ['155.698t156.678tEllietawesome'], ['159.448t160.858tEllietdo you travel a lot'], ['161.248t162.068tParticipanttno'], ['163.618t164.328tEllietwhy'], ['165.608t168.968tParticipanttum no specific reason i just'], [\"169.518t170.978tParticipanttdon't travel a lot\"], [\"171.308t172.978tParticipantti'm pretty local\"], ['174.148t174.968tEllietokay'], ['175.558t177.668tElliethow often do you go back to your hometown'], ['178.578t179.918tParticipanttonce a year'], ['182.508t183.268tEllietnice'], ['184.998t186.858tEllietdo you consider yourself an introvert'], ['189.098t191.068tParticipanttcan you be a little bit more specific'], ['193.678t195.248tEllietwhatever comes to your mind'], ['196.868t197.998tParticipanttno answer'], ['199.288t200.088tEllietokay'], ['200.818t202.398tElliet what do you do to relax'], ['203.318t206.358tParticipantti like reading books i enjoy i enjoy cooking'], ['206.728t208.658tParticipanttum exercising is great'], ['211.648t212.618tEllietawesome'], ['213.878t216.068tElliethow are you at controlling your temper'], [\"217.728t219.868tParticipantti'm i'm i'm pretty good at it\"], ['220.228t221.058tParticipanttum'], ['221.358t222.068tEllietreally'], ['221.358t222.068tParticipanttyeah'], ['223.708t227.208tEllietwhen was the last time you argued with someone and what was it about'], ['227.998t230.118tParticipanttum probably about'], ['231.088t232.368tParticipantttwo weeks ago'], ['235.458t237.378tElliethow did you feel in that moment'], ['238.298t240.168tParticipanttuh frustrated'], ['242.218t243.518tElliettell me more about that'], ['244.748t245.808tParticipanttum'], [\"246.338t247.918tParticipantti don't like bias\"], [\"248.488t252.298tParticipanttum i don't like um when someone says they're gonna do something and they don't\"], ['252.938t253.678tEllietmhm'], ['257.578t258.848tElliethow close are you to them'], ['260.238t261.168tParticipanttuh somewhat'], ['262.748t263.938tElliethow do you know them'], ['266.918t267.988tParticipanttfriendship'], ['269.898t270.658tEllietokay'], ['274.918t276.788tEllietwhat are some things you like to do for fun'], ['279.618t285.988tParticipantti like to play sports i enjoy uh going out with friends and family'], ['286.918t288.078tParticipanttplaying games'], ['288.858t289.678tEllietnice'], [\"290.868t293.268tEllietwho's someone that's been a positive influence in your life\"], ['294.678t295.778tParticipanttgrandparents'], ['296.648t297.618tParticipanttparents'], ['298.928t299.668tEllietaww'], ['302.228t303.498tEllietcan you tell me about that'], [\"305.218t309.358tParticipanttum yeah i mean they've always given me great advice\"], [\"310.538t312.208tParticipanttthey've always kept it real\"], ['314.148t316.388tElliethow close are you to your family'], ['316.868t318.008tParticipanttreal close'], ['322.918t324.388tEllietis there anything you regret'], ['325.738t333.468tParticipantti would say going to college right after high school'], ['334.268t335.058tEllietwhy'], [\"336.988t339.728tParticipanttwell i would've been done by now you know\"], ['340.568t344.168tParticipantti would have been probably out in the field'], ['344.788t346.068tParticipanttin the career field'], ['347.178t348.808tEllietwhat made you decide to do that'], ['349.998t351.988tParticipanttuh taking a job off the street'], ['354.178t356.448tEllietcould you have done anything to avoid it'], [\"357.818t360.198tParticipantti'm sure i could've yes\"], [\"363.928t366.448tEllietwhat's one of your most memorable experiences\"], [\"372.098t373.218tParticipantti'm not sure\"], ['373.588t375.488tParticipanttmaybe when i graduated from high school'], ['377.588t378.288tEllietyeah'], [\"381.848t383.678tEllieti'd love to hear all about it\"], ['386.728t390.328tParticipanttwell uh i um i got my diploma'], ['390.748t395.448tParticipanttmy my diploma that i finished school and i met all the requirements '], ['396.628t397.708tParticipantthigh school'], ['398.588t399.988tParticipanttand i was approved to go'], ['401.208t402.878tParticipanttdo whatever i wanted to do'], [\"403.468t404.498tEllietthat's great\"], [\"406.968t408.618tEllietwhat's it like for you living with them\"], ['409.408t410.428tParticipanttliving with who'], ['411.438t413.158tElliethow do you like your living situation'], [\"414.148t416.448tParticipanttum it's alright it could be better\"], ['417.418t418.688tEllietdo you have roommates'], ['417.428t417.858tParticipanttnot'], ['419.038t419.508tParticipanttno'], [\"420.608t421.748tEllietthat's good\"], [\"426.758t429.278tElliethow easy is it for you to get a good night's sleep\"], [\"430.858t432.458tParticipanttuh it's pretty easy\"], ['433.978t435.538tEllietdo you feel that way often'], ['436.538t437.598tParticipanttuh yes'], [\"438.558t440.548tEllietwhat are you like when you don't sleep well\"], ['448.468t449.568tParticipanttrepeat that'], [\"450.498t452.478tEllietwhat are you like when you don't sleep well\"], ['453.188t455.558tParticipanttirritated um'], ['457.348t458.258tParticipanttlazy'], ['462.288t463.488tEllietdo you feel down'], ['463.868t464.468tParticipanttno'], [\"466.278t467.108tEllietthat's good\"], ['468.348t470.378tElliethave you been diagnosed with depression'], ['470.658t471.348tParticipanttno'], ['471.878t474.188tElliethave you ever been diagnosed with p_t_s_d'], ['474.638t475.248tParticipanttno'], ['475.948t477.648tElliethave you ever served in the military'], ['477.868t478.478tParticipanttno'], ['479.228t480.088tEllietokay'], ['487.698t490.348tEllietwhen was the last time you felt really happy'], ['492.328t494.708tParticipanttum the other day'], ['496.448t497.608tElliettell me more about that'], ['499.508t502.038tParticipanttweather was great sun was out'], ['503.878t505.988tEllietthat sounds like a great situation'], [\"507.578t509.258tEllietwhat do you think of today's kids\"], ['511.028t511.888tParticipanttdifferent'], ['515.528t517.188tEllietcan you give me an example of that'], ['525.478t526.528tParticipanttless'], ['527.978t529.288tParticipanttless um'], ['530.038t531.008tParticipanttinterested'], ['533.118t534.128tElliet[laughter]'], ['535.148t536.268tEllieti see what you mean'], [\"544.928t546.488tEllietwhat do you do when you're annoyed\"], ['548.568t550.018tParticipanttuh shut down'], ['553.558t555.528tEllietwhen was the last time that happened'], ['559.768t562.228tParticipanttuh about two weeks ago'], ['564.208t564.818tEllietmhm'], ['566.098t567.478tEllietcan you tell me about that'], ['568.678t571.798tParticipanttuh yeah a friend of mine was annoying me and i just'], ['572.458t573.568tParticipanttcut them off'], [\"574.868t576.008tEllieti'm sorry\"], [\"576.178t577.558tParticipantt[laughter] it's alright\"], ['579.098t580.348tElliethow do you know them'], ['581.178t582.128tParticipanttfriendship'], ['583.928t584.558tEllietcool'], ['589.148t590.918tElliethow would your best friend describe you'], ['598.238t599.708tParticipanttchocolate'], ['600.608t601.378tParticipantttall'], ['601.718t602.688tElliet[laughter]'], ['602.738t603.478tParticipanttthin'], ['610.398t611.098tEllietokay'], [\"614.228t616.878tEllietokay i think i've asked everything i need to\"], ['618.308t619.078tParticipanttthank you'], ['619.488t620.348tEllietgoodbye'], ['620.538t621.268tParticipanttbye bye']]\n",
            "[[\"29.428t35.888tElliethi i'm ellie thanks for coming in today i was created to talk to people in a safe and secure environment\"], ['32.738t33.068tParticipanttthank you'], [\"36.598t40.948tEllietthink of me as a friend i don't judge i can't i'm a computer\"], ['42.088t42.518tParticipanttmmm k'], [\"42.358t51.738tEllieti'm here to learn about people and would love to learn about you i'll ask a few questions to get us started and please feel free to tell me anything your answers are totally confidential\"], ['52.928t53.868tElliethow are you doing today'], [\"54.328t55.758tParticipantti'm doing good thank you\"], [\"55.938t56.378tEllietthat's good\"], ['58.308t59.518tEllietwhere are you from originally'], [\"59.858t60.948tParticipantti'm from los angeles\"], ['61.718t63.048tEllietreally me too'], ['63.538t64.108tParticipanttoh great'], ['66.308t67.028tEllietwhere do you live'], ['67.388t69.858tParticipantti live in west los angeles the west side'], ['70.828t71.458tEllietnice'], ['72.638t74.168tElliethow do you like your living situation'], [\"74.678t75.248tParticipanttit's alright\"], ['76.398t76.708tParticipantti xxx'], ['76.578t77.738tEllietdo you have roommates'], ['78.218t79.588tParticipanttno i live alone so'], [\"81.208t81.978tEllietthat's great\"], ['83.818t84.878tElliethow do you like l_a'], [\"85.398t89.468tParticipantti love it i'm from here so i grew up here it's natural\"], ['90.778t91.168tEllietyeah'], ['92.508t94.528tEllietwhat are some things you really like about l_a'], ['95.388t98.598tParticipanttthe weather um well the weather'], [\"99.728t107.748tParticipanttit's always good it's never it's never bad uh um there's always something to do it's rarely a dull moment\"], ['100.458t101.288tElliet<laughter>'], ['108.638t108.998tEllietmhm'], [\"109.848t111.858tEllietwhat are some things you don't really like about l_a\"], ['112.268t113.068tParticipanttthe traffic'], ['115.248t116.128tEllieti see what you mean'], ['116.188t122.918tParticipanttthe traffic is horrible well probably traffic is horrible in almost any major city but i hate the traffic'], ['122.438t122.828tEllietyeah'], ['125.078t126.068tEllietdo you travel a lot'], [\"126.698t135.338tParticipanttnot really i mean i have enough things going on here so if i travel it's usually somewhere that's within driving distance\"], ['136.468t137.838tEllietaw okay'], [\"140.108t141.248tEllietwhat'd you study at school\"], ['142.168t144.338tParticipantti studied uh business'], ['145.058t145.518tParticipantti did'], ['145.358t146.308tEllietare you still doing that'], [\"146.708t151.218tParticipanttno i've i've been done for a few years so i haven't gone to school for a while\"], [\"151.928t154.488tParticipanttone of these days i'll go back to graduate school but\"], ['157.378t158.068tEllietawesome'], [\"159.118t160.278tEllietwhat's your dream job\"], ['161.458t166.668tParticipanttmy dream job would be to just work for myself and making lots of money um'], [\"168.078t172.408tParticipantti don't know i don't really have a dream job just something that i can\"], ['173.438t181.178tParticipantti can work under my own terms and get paid decently and and be in a creative creative environment'], ['182.638t182.998tEllietmhm'], ['183.718t184.658tElliethow hard is that'], ['185.978t186.758tParticipanttum'], [\"188.908t206.318tParticipantti don't know i think it's just a matter of finding the right situation so right now eh it's been people are a little conservative about what they want so and how they want it so it's a little tougher than it seems <se> it should be but i don't know i think when the situation's right i don't think it's too difficult\"], ['207.678t207.988tEllietyeah'], ['208.728t210.898tEllietit can be tough to find a good job these days'], ['211.108t211.438tParticipanttyep'], ['212.028t212.888tEllietwhat do you do now'], ['213.688t217.938tParticipantti work as an assistant <as> administrative assistant through a temp agency so'], [\"219.488t222.118tParticipanttit's just basically i get sent out to do uh\"], ['219.898t220.228tEllietcool'], ['223.118t224.508tParticipanttto do desk jobs '], ['225.468t226.448tEllietare you happy you did that'], ['227.338t234.948tParticipanttum yes and no i mean i feel like i feel like i could do more but you know it works so '], ['236.228t236.968tParticipanttyou know yeah'], ['236.568t236.938tEllietokay'], ['239.878t241.418tElliethow close are you to your family'], [\"242.008t244.708tParticipantti'm pretty close i mean they're around so\"], ['249.738t250.268tElliethmm'], ['253.958t256.058tEllietwhat are some things that make you really mad'], ['257.418t259.938tParticipanttum god really mad'], ['261.208t266.238tParticipanttstupid people just basically doing just doing anything to annoy me'], ['267.068t267.798tParticipanttum'], [\"269.098t278.598tParticipanttthat's basically <ba> that's the big thing just just irritating stupid people <laughter> who just do things just to provoke provoke me for no reason at all\"], ['279.408t279.778tEllietmhm'], ['280.208t281.438tEllietcan you give me an example of that'], [\"283.018t285.558tParticipanttum what's a good example\"], [\"287.098t295.308tParticipanttjust random people who who think it's funny to just sit there and get a rise out of me just it doesn't have to be one any specific\"], [\"296.338t312.268tParticipanttsituation it's just people who just think it's funny to i think they're just generally sadistic and they just think it's it's funny to to just prod you like it's like poking a stick at an angry dog knowing that they know how to they just wanna push your buttons for no reason so\"], ['313.018t313.338tEllietright'], ['314.188t315.698tEllietwhen was the last time that happened'], ['317.728t321.138tParticipanttuh god'], [\"322.648t334.408tParticipantti don't remember i with those situations i usually try not to remember <laughter> when when it happens i just i just let it go and just like the past is the past i just tend not to look back\"], ['335.078t335.908tEllieti understand'], ['336.978t338.478tEllietdo you consider yourself an introvert'], ['339.648t340.278tParticipanttwhat do you mean'], [\"344.478t345.838tEllietlet's come back to that later\"], ['345.848t346.248tParticipanttokay'], ['347.078t348.408tEllietwhat do you do to relax'], ['349.438t354.278tParticipanttgod what do i do to relax i like to run i like to go to the gym'], [\"355.648t362.088tParticipanttlisten to music i have a lot of musician friends so i just so i'm usually around musicians so\"], ['363.198t364.558tParticipanttanything of that sort i like'], [\"365.608t373.528tParticipantti like everything from punk rock art to tattoos to just anything that's that's generally art and creative\"], ['374.458t375.118tEllietawesome'], [\"377.488t379.838tEllietwho's someone that's been a positive influence in your life\"], [\"381.198t382.278tParticipanttwho's been a positive <pos>\"], [\"384.158t392.208tParticipantti think it's just friends in general who who seem to who seem to do well and i think they they're very inspiring and\"], [\"393.298t402.478tParticipanttwhich is sometimes a a bit tough in in a town like los angeles where i think everybody's on the go trying to accomplish their own goals so they don't\"], ['402.718t403.098tEllietmhm'], [\"403.148t409.858tParticipanttit's sometimes hard to find someone who's gonna be uplifting or try to be inspiring so\"], [\"410.938t416.708tParticipantti don't really have anybody in particular but people have kind of brought up things here and there\"], ['418.748t419.318tEllietlike what'], [\"420.078t436.018tParticipanttyou know just like hey instead of instead of doing this how about doing that or hey you're good at this why aren't you doing that or something like that just you know i'm always looking for new opportunities so they always point out things that maybe i might i could do differently\"], [\"436.528t443.208tParticipanttinstead of just being negative saying hey don't do that that's no that's why are you doing that it's a waste of time\"], ['444.388t444.738tEllietmmm'], [\"445.238t445.748tEllietthat's good\"], ['448.588t450.428tElliethow are you at controlling your temper'], ['451.948t455.628tParticipanttum i guess it depends on who you talk to'], ['457.468t458.208tElliet<laughter>'], [\"457.888t463.068tParticipantti'm i'm okay at it i could probably work at that\"], ['464.048t464.648tParticipanttum'], [\"465.538t469.728tParticipantti don't know i mean i can i i think i can do better at it\"], ['470.858t472.138tEllietcan you give me an example of that'], ['473.298t484.118tParticipanttwell back to the point about people provoking me so i mean i try not to blow steam and let them get under my skin so i just usually try not to let it get to me'], [\"484.988t489.698tParticipanttbut i don't know i guess with temper i guess it depends on how i handle my stress\"], [\"490.438t495.248tParticipanttlately i've been better at it just because i think my situation's been a little bit better\"], [\"497.098t497.688tEllietthat's good\"], ['501.898t503.618tElliethave you been diagnosed with depression'], ['504.238t504.628tParticipanttno'], ['505.798t507.738tElliethave you ever been diagnosed with p_t_s_d'], ['508.218t508.618tParticipanttno'], ['509.498t511.028tElliethave you ever served in the military'], ['511.298t511.628tParticipanttno'], ['512.738t513.138tEllietokay'], ['515.378t516.408tEllietis there anything you regret'], ['518.208t519.448tParticipanttum'], ['520.658t521.578tParticipanttnothing major'], [\"522.448t533.018tParticipantti mean maybe when i was younger i could've traveled more or i could've worked towards something that paid better job-wise but i mean\"], [\"533.708t540.138tParticipanttthose are all things that i think at any point in life you always think like well i coulda shoulda would've done but you know\"], [\"541.278t552.838tParticipanttbut then again i think that's natural for anybody i mean i could i could've become a banker or i could've become a lawyer or a doctor and made about ten times the money that i make now but\"], [\"553.538t559.818tParticipanttbut then again i don't like the law and i don't like medicine so so i'm it wasn't meant to be so\"], ['560.518t560.828tEllietright'], [\"561.808t563.778tEllietthere are always trade offs in life aren't there\"], ['563.948t564.398tParticipanttyeah'], ['565.188t566.548tEllietwhat made you decide to do that'], ['565.218t565.468tParticipanttso'], ['567.718t568.748tParticipanttum i think'], ['569.918t570.658tParticipantti think my'], ['571.488t573.608tParticipanttin my life i knew that'], [\"574.368t590.858tParticipantti there's a lot of things i have <ha> there's more dislikes <laughter> than likes so i kinda narrowed it down to what am i good at and what am i not good at and what am i gonna work well or who who am i gonna work well with and who will i not work well with\"], ['591.348t595.318tParticipanttso i kind of i kinda sorted out and then the list kind of'], ['596.498t598.648tParticipanttmmm kind of answered itself so'], ['599.658t600.998tEllietthat sounds really hard'], [\"602.078t616.388tParticipanttno it i don't think it was hard but it was just but i think it was a real reality check and i think it it's kind of a good thing 'cause sometimes trying to conform to doing things that doesn't really fit you doesn't make sense\"], [\"616.738t631.878tParticipanttit's like trying to shove a a round peg into a square a square hole and it's like it just no matter how you try to shove it in it's not gonna go in so sometimes it's just might as well go down a path that seems to work better for you\"], ['633.018t633.288tEllietright'], ['633.918t634.848tEllietthat makes sense'], [\"638.598t640.838tEllietwhat's one of your most memorable experiences\"], ['642.398t646.818tParticipanttmemorable experiences um hmm'], [\"650.488t665.948tParticipantti think it's just i don't really have like any one in particular i think i think every day is almost like a memorable experience whether it's positive or negative i think it's just everything from getting it just just the fact that\"], [\"667.058t679.768tParticipantti got a job and i can i can take care of myself is already almost like a memorable experience maybe for the average person it it sounds stupid but you know i think just the fact that i'm able\"], [\"680.588t688.298tParticipantti'm able to get this far in life without like completely self-destructing is already an accomplishment so i feel like\"], [\"689.468t690.498tParticipantti've gotten somewhere\"], [\"691.578t692.328tEllietthat's great\"], [\"691.628t700.358tParticipanttmaybe not to not maybe not to the point to the average person they might think like well why aren't you a millionaire but you know what not everybody can be a millionaire\"], ['701.508t701.878tEllietyeah'], ['703.828t704.628tEllieti see what you mean'], ['704.798t705.218tParticipanttyeah'], ['709.968t712.398tEllietwhen was the last time you felt really happy'], ['714.098t715.168tParticipanttum'], ['716.108t718.408tParticipanttwhen was the last time i really felt happy'], ['719.978t721.358tParticipanttum'], [\"722.488t725.798tParticipantti don't know i'm not really someone who's like\"], [\"727.038t732.338tParticipantti don't have any real high highs or low lows i mean i haven't hit any lows so i mean i\"], [\"733.908t742.868tParticipantti don't know i'm usually pretty i feel like i'm a level person and i'm pretty happy <ha> every day i feel like if i accomplish one thing then i'm pretty happy so\"], ['743.548t745.318tParticipantti guess to answer the question probably'], [\"746.718t753.888tParticipanttmmm probably yesterday i just feel like if i if i'm able to accomplish something then then hey i'm happy\"], [\"755.188t755.978tEllietthat's great\"], ['757.798t759.348tElliethow would your best friend describe you'], [\"760.978t766.638tParticipantti don't know i don't really have a best friend but i mean i well to answer the question generally friends\"], [\"767.758t771.618tParticipantti think they would say that i'm very <ver> pretty outgoing i'm pretty\"], ['772.648t773.438tParticipanttdetermined'], [\"774.748t782.358tParticipantti'm trying you know i try to you know i try to interact as much as possible i'm always out networking as much as possible\"], ['783.178t783.648tParticipanttso'], [\"784.788t790.018tParticipantti don't know i guess that's basically what i think they would describe me as\"], ['791.338t791.848tEllietokay'], [\"795.508t797.868tEllietokay i think i've asked everything i need to\"], ['797.918t798.338tParticipanttokay'], ['799.208t800.658tEllietthanks for sharing your thoughts with me'], ['800.678t801.278tParticipanttno problem'], ['801.828t802.358tEllietgoodbye'], ['802.388t802.828tParticipanttalright'], ['803.458t803.828tParticipanttbye']]\n"
          ]
        }
      ]
    },
    {
      "cell_type": "code",
      "source": [
        "import re"
      ],
      "metadata": {
        "id": "G-egkh_vDkVI"
      },
      "execution_count": 15,
      "outputs": []
    },
    {
      "cell_type": "code",
      "source": [
        "list1 = re.sub(r'[0-9]+', '', list1)\n",
        "list2 = re.sub(r'[0-9]+', '', list2)"
      ],
      "metadata": {
        "id": "YEGI2k8QDnvN"
      },
      "execution_count": 16,
      "outputs": []
    },
    {
      "cell_type": "code",
      "source": [
        "list1 = list1.split('.t.')\n",
        "list2 = list2.split('.t.')"
      ],
      "metadata": {
        "id": "KF6-ZbrcFRFl"
      },
      "execution_count": 17,
      "outputs": []
    },
    {
      "cell_type": "code",
      "source": [
        "list1 = [item.replace(\"tParticipantt\", \" \") for item in list1]\n",
        "list2 = [item.replace(\"tParticipantt\", \" \") for item in list2]"
      ],
      "metadata": {
        "id": "szvtMImmQ-xC"
      },
      "execution_count": 18,
      "outputs": []
    },
    {
      "cell_type": "code",
      "source": [
        "list1 = [item.replace(\"tElliet\", \" \") for item in list1]\n",
        "list2 = [item.replace(\"tElliet\", \" \") for item in list2]"
      ],
      "metadata": {
        "id": "we-AWgrJR3eX"
      },
      "execution_count": 19,
      "outputs": []
    },
    {
      "cell_type": "code",
      "source": [
        "print(list1)\n",
        "print(list2)"
      ],
      "metadata": {
        "colab": {
          "base_uri": "https://localhost:8080/"
        },
        "id": "smqURkqgEP9V",
        "outputId": "f9569c43-8a6e-4d4f-ce81-039466b820b9"
      },
      "execution_count": 20,
      "outputs": [
        {
          "output_type": "stream",
          "name": "stdout",
          "text": [
            "['[[\"', ' hi i\\'m ellie thanks for coming in today\"], [\\'', ' i was created to talk to people in a safe and secure environment\\'], [\"', ' think of me as a friend i don\\'t judge i can\\'t i\\'m a computer\"], [\"', ' i\\'m here to learn about people and would love to learn about you\"], [\"', ' i\\'ll ask a few questions to get us started and please feel free to tell me anything your answers are totally confidential\"], [\\'', \" how are you doing today'], ['\", ' good\\'], [\"', ' that\\'s good\"], [\\'', \" where are you from originally'], ['\", \" atlanta georgia'], ['\", ' really\\'], [\"', ' why\\'d you move to l_a\"], [\\'', \" um my parents are from here um'], ['\", \" how do you like l_a'], ['\", \" i love it'], ['\", \" what are some things you really like about l_a'], ['\", \" i like the weather'], ['\", \" i like the opportunities'], ['\", \" um'], ['\", \" yes'], ['\", \" how easy was it for you to get used to living in l_a'], ['\", \" um'], ['\", \" it took a minute'], ['\", ' somewhat easy\\'], [\"', ' what are some things you don\\'t really like about l_a\"], [\\'', \" congestion'], ['\", ' mhm\\'], [\"', ' that\\'s it\"], [\\'', ' okay\\'], [\"', ' what\\'d you study at school\"], [\\'', \" um i took up business and administration'], ['\", \" cool'], ['\", \" are you still doing that'], ['\", ' uh yeah i am\\'], [\"', ' here and there i\\'m on a break right now but i plan on going back in the uh next semester\"], [\"', ' what\\'s your dream job\"], [\\'', \" uh probably to open up my own business'], ['\", \" awesome'], ['\", \" do you travel a lot'], ['\", \" no'], ['\", \" why'], ['\", ' um no specific reason i just\\'], [\"', ' don\\'t travel a lot\"], [\"', ' i\\'m pretty local\"], [\\'', \" okay'], ['\", \" how often do you go back to your hometown'], ['\", \" once a year'], ['\", \" nice'], ['\", \" do you consider yourself an introvert'], ['\", \" can you be a little bit more specific'], ['\", \" whatever comes to your mind'], ['\", \" no answer'], ['\", \" okay'], ['\", \"  what do you do to relax'], ['\", \" i like reading books i enjoy i enjoy cooking'], ['\", \" um exercising is great'], ['\", \" awesome'], ['\", ' how are you at controlling your temper\\'], [\"', ' i\\'m i\\'m i\\'m pretty good at it\"], [\\'', \" um'], ['\", \" really'], ['\", \" yeah'], ['\", \" when was the last time you argued with someone and what was it about'], ['\", \" um probably about'], ['\", \" two weeks ago'], ['\", \" how did you feel in that moment'], ['\", \" uh frustrated'], ['\", \" tell me more about that'], ['\", ' um\\'], [\"', ' i don\\'t like bias\"], [\"', ' um i don\\'t like um when someone says they\\'re gonna do something and they don\\'t\"], [\\'', \" mhm'], ['\", \" how close are you to them'], ['\", \" uh somewhat'], ['\", \" how do you know them'], ['\", \" friendship'], ['\", \" okay'], ['\", \" what are some things you like to do for fun'], ['\", \" i like to play sports i enjoy uh going out with friends and family'], ['\", \" playing games'], ['\", ' nice\\'], [\"', ' who\\'s someone that\\'s been a positive influence in your life\"], [\\'', \" grandparents'], ['\", \" parents'], ['\", \" aww'], ['\", ' can you tell me about that\\'], [\"', ' um yeah i mean they\\'ve always given me great advice\"], [\"', ' they\\'ve always kept it real\"], [\\'', \" how close are you to your family'], ['\", \" real close'], ['\", \" is there anything you regret'], ['\", \" i would say going to college right after high school'], ['\", ' why\\'], [\"', ' well i would\\'ve been done by now you know\"], [\\'', \" i would have been probably out in the field'], ['\", \" in the career field'], ['\", \" what made you decide to do that'], ['\", \" uh taking a job off the street'], ['\", ' could you have done anything to avoid it\\'], [\"', ' i\\'m sure i could\\'ve yes\"], [\"', ' what\\'s one of your most memorable experiences\"], [\"', ' i\\'m not sure\"], [\\'', \" maybe when i graduated from high school'], ['\", ' yeah\\'], [\"', ' i\\'d love to hear all about it\"], [\\'', \" well uh i um i got my diploma'], ['\", \" my my diploma that i finished school and i met all the requirements '], ['\", \" high school'], ['\", \" and i was approved to go'], ['\", ' do whatever i wanted to do\\'], [\"', ' that\\'s great\"], [\"', ' what\\'s it like for you living with them\"], [\\'', \" living with who'], ['\", ' how do you like your living situation\\'], [\"', ' um it\\'s alright it could be better\"], [\\'', \" do you have roommates'], ['\", \" not'], ['\", ' no\\'], [\"', ' that\\'s good\"], [\"', ' how easy is it for you to get a good night\\'s sleep\"], [\"', ' uh it\\'s pretty easy\"], [\\'', \" do you feel that way often'], ['\", ' uh yes\\'], [\"', ' what are you like when you don\\'t sleep well\"], [\\'', ' repeat that\\'], [\"', ' what are you like when you don\\'t sleep well\"], [\\'', \" irritated um'], ['\", \" lazy'], ['\", \" do you feel down'], ['\", ' no\\'], [\"', ' that\\'s good\"], [\\'', \" have you been diagnosed with depression'], ['\", \" no'], ['\", \" have you ever been diagnosed with p_t_s_d'], ['\", \" no'], ['\", \" have you ever served in the military'], ['\", \" no'], ['\", \" okay'], ['\", \" when was the last time you felt really happy'], ['\", \" um the other day'], ['\", \" tell me more about that'], ['\", \" weather was great sun was out'], ['\", ' that sounds like a great situation\\'], [\"', ' what do you think of today\\'s kids\"], [\\'', \" different'], ['\", \" can you give me an example of that'], ['\", \" less'], ['\", \" less um'], ['\", \" interested'], ['\", \" [laughter]'], ['\", ' i see what you mean\\'], [\"', ' what do you do when you\\'re annoyed\"], [\\'', \" uh shut down'], ['\", \" when was the last time that happened'], ['\", \" uh about two weeks ago'], ['\", \" mhm'], ['\", \" can you tell me about that'], ['\", \" uh yeah a friend of mine was annoying me and i just'], ['\", ' cut them off\\'], [\"', ' i\\'m sorry\"], [\"', ' [laughter] it\\'s alright\"], [\\'', \" how do you know them'], ['\", \" friendship'], ['\", \" cool'], ['\", \" how would your best friend describe you'], ['\", \" chocolate'], ['\", \" tall'], ['\", \" [laughter]'], ['\", \" thin'], ['\", ' okay\\'], [\"', ' okay i think i\\'ve asked everything i need to\"], [\\'', \" thank you'], ['\", \" goodbye'], ['\", \" bye bye']]\"]\n",
            "['[[\"', ' hi i\\'m ellie thanks for coming in today i was created to talk to people in a safe and secure environment\"], [\\'', ' thank you\\'], [\"', ' think of me as a friend i don\\'t judge i can\\'t i\\'m a computer\"], [\\'', ' mmm k\\'], [\"', ' i\\'m here to learn about people and would love to learn about you i\\'ll ask a few questions to get us started and please feel free to tell me anything your answers are totally confidential\"], [\\'', ' how are you doing today\\'], [\"', ' i\\'m doing good thank you\"], [\"', ' that\\'s good\"], [\\'', ' where are you from originally\\'], [\"', ' i\\'m from los angeles\"], [\\'', \" really me too'], ['\", \" oh great'], ['\", \" where do you live'], ['\", \" i live in west los angeles the west side'], ['\", \" nice'], ['\", ' how do you like your living situation\\'], [\"', ' it\\'s alright\"], [\\'', \" i xxx'], ['\", \" do you have roommates'], ['\", ' no i live alone so\\'], [\"', ' that\\'s great\"], [\\'', ' how do you like l_a\\'], [\"', ' i love it i\\'m from here so i grew up here it\\'s natural\"], [\\'', \" yeah'], ['\", \" what are some things you really like about l_a'], ['\", ' the weather um well the weather\\'], [\"', ' it\\'s always good it\\'s never it\\'s never bad uh um there\\'s always something to do it\\'s rarely a dull moment\"], [\\'', \" <laughter>'], ['\", ' mhm\\'], [\"', ' what are some things you don\\'t really like about l_a\"], [\\'', \" the traffic'], ['\", \" i see what you mean'], ['\", \" the traffic is horrible well probably traffic is horrible in almost any major city but i hate the traffic'], ['\", \" yeah'], ['\", ' do you travel a lot\\'], [\"', ' not really i mean i have enough things going on here so if i travel it\\'s usually somewhere that\\'s within driving distance\"], [\\'', ' aw okay\\'], [\"', ' what\\'d you study at school\"], [\\'', \" i studied uh business'], ['\", \" i did'], ['\", ' are you still doing that\\'], [\"', ' no i\\'ve i\\'ve been done for a few years so i haven\\'t gone to school for a while\"], [\"', ' one of these days i\\'ll go back to graduate school but\"], [\\'', ' awesome\\'], [\"', ' what\\'s your dream job\"], [\\'', ' my dream job would be to just work for myself and making lots of money um\\'], [\"', ' i don\\'t know i don\\'t really have a dream job just something that i can\"], [\\'', \" i can work under my own terms and get paid decently and and be in a creative creative environment'], ['\", \" mhm'], ['\", \" how hard is that'], ['\", ' um\\'], [\"', ' i don\\'t know i think it\\'s just a matter of finding the right situation so right now eh it\\'s been people are a little conservative about what they want so and how they want it so it\\'s a little tougher than it seems <se> it should be but i don\\'t know i think when the situation\\'s right i don\\'t think it\\'s too difficult\"], [\\'', \" yeah'], ['\", \" it can be tough to find a good job these days'], ['\", \" yep'], ['\", \" what do you do now'], ['\", ' i work as an assistant <as> administrative assistant through a temp agency so\\'], [\"', ' it\\'s just basically i get sent out to do uh\"], [\\'', \" cool'], ['\", \" to do desk jobs '], ['\", \" are you happy you did that'], ['\", \" um yes and no i mean i feel like i feel like i could do more but you know it works so '], ['\", \" you know yeah'], ['\", \" okay'], ['\", ' how close are you to your family\\'], [\"', ' i\\'m pretty close i mean they\\'re around so\"], [\\'', \" hmm'], ['\", \" what are some things that make you really mad'], ['\", \" um god really mad'], ['\", \" stupid people just basically doing just doing anything to annoy me'], ['\", ' um\\'], [\"', ' that\\'s basically <ba> that\\'s the big thing just just irritating stupid people <laughter> who just do things just to provoke provoke me for no reason at all\"], [\\'', \" mhm'], ['\", ' can you give me an example of that\\'], [\"', ' um what\\'s a good example\"], [\"', ' just random people who who think it\\'s funny to just sit there and get a rise out of me just it doesn\\'t have to be one any specific\"], [\"', ' situation it\\'s just people who just think it\\'s funny to i think they\\'re just generally sadistic and they just think it\\'s it\\'s funny to to just prod you like it\\'s like poking a stick at an angry dog knowing that they know how to they just wanna push your buttons for no reason so\"], [\\'', \" right'], ['\", \" when was the last time that happened'], ['\", ' uh god\\'], [\"', ' i don\\'t remember i with those situations i usually try not to remember <laughter> when when it happens i just i just let it go and just like the past is the past i just tend not to look back\"], [\\'', \" i understand'], ['\", \" do you consider yourself an introvert'], ['\", ' what do you mean\\'], [\"', ' let\\'s come back to that later\"], [\\'', \" okay'], ['\", \" what do you do to relax'], ['\", ' god what do i do to relax i like to run i like to go to the gym\\'], [\"', ' listen to music i have a lot of musician friends so i just so i\\'m usually around musicians so\"], [\\'', ' anything of that sort i like\\'], [\"', ' i like everything from punk rock art to tattoos to just anything that\\'s that\\'s generally art and creative\"], [\\'', ' awesome\\'], [\"', ' who\\'s someone that\\'s been a positive influence in your life\"], [\"', ' who\\'s been a positive <pos>\"], [\"', ' i think it\\'s just friends in general who who seem to who seem to do well and i think they they\\'re very inspiring and\"], [\"', ' which is sometimes a a bit tough in in a town like los angeles where i think everybody\\'s on the go trying to accomplish their own goals so they don\\'t\"], [\\'', ' mhm\\'], [\"', ' it\\'s sometimes hard to find someone who\\'s gonna be uplifting or try to be inspiring so\"], [\"', ' i don\\'t really have anybody in particular but people have kind of brought up things here and there\"], [\\'', ' like what\\'], [\"', ' you know just like hey instead of instead of doing this how about doing that or hey you\\'re good at this why aren\\'t you doing that or something like that just you know i\\'m always looking for new opportunities so they always point out things that maybe i might i could do differently\"], [\"', ' instead of just being negative saying hey don\\'t do that that\\'s no that\\'s why are you doing that it\\'s a waste of time\"], [\\'', ' mmm\\'], [\"', ' that\\'s good\"], [\\'', \" how are you at controlling your temper'], ['\", \" um i guess it depends on who you talk to'], ['\", ' <laughter>\\'], [\"', ' i\\'m i\\'m okay at it i could probably work at that\"], [\\'', ' um\\'], [\"', ' i don\\'t know i mean i can i i think i can do better at it\"], [\\'', \" can you give me an example of that'], ['\", ' well back to the point about people provoking me so i mean i try not to blow steam and let them get under my skin so i just usually try not to let it get to me\\'], [\"', ' but i don\\'t know i guess with temper i guess it depends on how i handle my stress\"], [\"', ' lately i\\'ve been better at it just because i think my situation\\'s been a little bit better\"], [\"', ' that\\'s good\"], [\\'', \" have you been diagnosed with depression'], ['\", \" no'], ['\", \" have you ever been diagnosed with p_t_s_d'], ['\", \" no'], ['\", \" have you ever served in the military'], ['\", \" no'], ['\", \" okay'], ['\", \" is there anything you regret'], ['\", \" um'], ['\", ' nothing major\\'], [\"', ' i mean maybe when i was younger i could\\'ve traveled more or i could\\'ve worked towards something that paid better job-wise but i mean\"], [\"', ' those are all things that i think at any point in life you always think like well i coulda shoulda would\\'ve done but you know\"], [\"', ' but then again i think that\\'s natural for anybody i mean i could i could\\'ve become a banker or i could\\'ve become a lawyer or a doctor and made about ten times the money that i make now but\"], [\"', ' but then again i don\\'t like the law and i don\\'t like medicine so so i\\'m it wasn\\'t meant to be so\"], [\\'', ' right\\'], [\"', ' there are always trade offs in life aren\\'t there\"], [\\'', \" yeah'], ['\", \" what made you decide to do that'], ['\", \" so'], ['\", \" um i think'], ['\", \" i think my'], ['\", ' in my life i knew that\\'], [\"', ' i there\\'s a lot of things i have <ha> there\\'s more dislikes <laughter> than likes so i kinda narrowed it down to what am i good at and what am i not good at and what am i gonna work well or who who am i gonna work well with and who will i not work well with\"], [\\'', \" so i kind of i kinda sorted out and then the list kind of'], ['\", \" mmm kind of answered itself so'], ['\", ' that sounds really hard\\'], [\"', ' no it i don\\'t think it was hard but it was just but i think it was a real reality check and i think it it\\'s kind of a good thing \\'cause sometimes trying to conform to doing things that doesn\\'t really fit you doesn\\'t make sense\"], [\"', ' it\\'s like trying to shove a a round peg into a square a square hole and it\\'s like it just no matter how you try to shove it in it\\'s not gonna go in so sometimes it\\'s just might as well go down a path that seems to work better for you\"], [\\'', \" right'], ['\", ' that makes sense\\'], [\"', ' what\\'s one of your most memorable experiences\"], [\\'', ' memorable experiences um hmm\\'], [\"', ' i think it\\'s just i don\\'t really have like any one in particular i think i think every day is almost like a memorable experience whether it\\'s positive or negative i think it\\'s just everything from getting it just just the fact that\"], [\"', ' i got a job and i can i can take care of myself is already almost like a memorable experience maybe for the average person it it sounds stupid but you know i think just the fact that i\\'m able\"], [\"', ' i\\'m able to get this far in life without like completely self-destructing is already an accomplishment so i feel like\"], [\"', ' i\\'ve gotten somewhere\"], [\"', ' that\\'s great\"], [\"', ' maybe not to not maybe not to the point to the average person they might think like well why aren\\'t you a millionaire but you know what not everybody can be a millionaire\"], [\\'', \" yeah'], ['\", \" i see what you mean'], ['\", \" yeah'], ['\", \" when was the last time you felt really happy'], ['\", \" um'], ['\", \" when was the last time i really felt happy'], ['\", ' um\\'], [\"', ' i don\\'t know i\\'m not really someone who\\'s like\"], [\"', ' i don\\'t have any real high highs or low lows i mean i haven\\'t hit any lows so i mean i\"], [\"', ' i don\\'t know i\\'m usually pretty i feel like i\\'m a level person and i\\'m pretty happy <ha> every day i feel like if i accomplish one thing then i\\'m pretty happy so\"], [\\'', ' i guess to answer the question probably\\'], [\"', ' mmm probably yesterday i just feel like if i if i\\'m able to accomplish something then then hey i\\'m happy\"], [\"', ' that\\'s great\"], [\\'', ' how would your best friend describe you\\'], [\"', ' i don\\'t know i don\\'t really have a best friend but i mean i well to answer the question generally friends\"], [\"', ' i think they would say that i\\'m very <ver> pretty outgoing i\\'m pretty\"], [\\'', ' determined\\'], [\"', ' i\\'m trying you know i try to you know i try to interact as much as possible i\\'m always out networking as much as possible\"], [\\'', ' so\\'], [\"', ' i don\\'t know i guess that\\'s basically what i think they would describe me as\"], [\\'', ' okay\\'], [\"', ' okay i think i\\'ve asked everything i need to\"], [\\'', \" okay'], ['\", \" thanks for sharing your thoughts with me'], ['\", \" no problem'], ['\", \" goodbye'], ['\", \" alright'], ['\", \" bye']]\"]\n"
          ]
        }
      ]
    },
    {
      "cell_type": "code",
      "source": [
        "pp = pprint.PrettyPrinter(indent=4)"
      ],
      "metadata": {
        "id": "7yeNVSJmGy1S"
      },
      "execution_count": 21,
      "outputs": []
    },
    {
      "cell_type": "code",
      "source": [
        "embeddings1 = model.encode(list1, convert_to_tensor=True)\n",
        "embeddings2 = model.encode(list2, convert_to_tensor=True)\n",
        "\n",
        "cosine_scores = util.pytorch_cos_sim(embeddings1, embeddings2)\n",
        "\n",
        "for i in range(len(list1)):\n",
        "  pp.pprint(\"{}  {}  Score: {:.4f}\".format(list1[i], list2[i], cosine_scores[i][i])) \n"
      ],
      "metadata": {
        "colab": {
          "base_uri": "https://localhost:8080/"
        },
        "id": "OixY-Fka37f5",
        "outputId": "aa5630e4-65a4-44e8-a3e3-3a4ec32d6508"
      },
      "execution_count": 22,
      "outputs": [
        {
          "output_type": "stream",
          "name": "stdout",
          "text": [
            "'[[\"  [[\"  Score: 1.0000'\n",
            "(' hi i\\'m ellie thanks for coming in today\"], [\\'   hi i\\'m ellie thanks for '\n",
            " 'coming in today i was created to talk to people in a safe and secure '\n",
            " 'environment\"], [\\'  Score: 0.7891')\n",
            "(' i was created to talk to people in a safe and secure environment\\'], [\"   '\n",
            " 'thank you\\'], [\"  Score: 0.4386')\n",
            "(' think of me as a friend i don\\'t judge i can\\'t i\\'m a computer\"], [\"   '\n",
            " 'think of me as a friend i don\\'t judge i can\\'t i\\'m a computer\"], [\\'  '\n",
            " 'Score: 0.9873')\n",
            "(' i\\'m here to learn about people and would love to learn about you\"], [\"   '\n",
            " 'mmm k\\'], [\"  Score: 0.5092')\n",
            "(\" i'll ask a few questions to get us started and please feel free to tell me \"\n",
            " 'anything your answers are totally confidential\"], [\\'   i\\'m here to learn '\n",
            " \"about people and would love to learn about you i'll ask a few questions to \"\n",
            " 'get us started and please feel free to tell me anything your answers are '\n",
            " 'totally confidential\"], [\\'  Score: 0.7153')\n",
            "(' how are you doing today\\'], [\\'   how are you doing today\\'], [\"  Score: '\n",
            " '0.9757')\n",
            "' good\\'], [\"   i\\'m doing good thank you\"], [\"  Score: 0.7667'\n",
            "' that\\'s good\"], [\\'   that\\'s good\"], [\\'  Score: 1.0000'\n",
            "(\" where are you from originally'], ['   where are you from originally'], \"\n",
            " '[\"  Score: 0.9740')\n",
            "' atlanta georgia\\'], [\\'   i\\'m from los angeles\"], [\\'  Score: 0.4952'\n",
            "' really\\'], [\"   really me too\\'], [\\'  Score: 0.7664'\n",
            "' why\\'d you move to l_a\"], [\\'   oh great\\'], [\\'  Score: 0.3612'\n",
            "\" um my parents are from here um'], ['   where do you live'], ['  Score: 0.6421\"\n",
            "(\" how do you like l_a'], ['   i live in west los angeles the west side'], ['  \"\n",
            " 'Score: 0.4410')\n",
            "\" i love it'], ['   nice'], ['  Score: 0.7654\"\n",
            "(\" what are some things you really like about l_a'], ['   how do you like your \"\n",
            " 'living situation\\'], [\"  Score: 0.4730')\n",
            "' i like the weather\\'], [\\'   it\\'s alright\"], [\\'  Score: 0.5497'\n",
            "\" i like the opportunities'], ['   i xxx'], ['  Score: 0.4982\"\n",
            "\" um'], ['   do you have roommates'], ['  Score: 0.5376\"\n",
            "' yes\\'], [\\'   no i live alone so\\'], [\"  Score: 0.6375'\n",
            "(\" how easy was it for you to get used to living in l_a'], ['   that's \"\n",
            " 'great\"], [\\'  Score: 0.3165')\n",
            "' um\\'], [\\'   how do you like l_a\\'], [\"  Score: 0.5743'\n",
            "(\" it took a minute'], ['   i love it i'm from here so i grew up here it's \"\n",
            " 'natural\"], [\\'  Score: 0.3194')\n",
            "' somewhat easy\\'], [\"   yeah\\'], [\\'  Score: 0.6912'\n",
            "(' what are some things you don\\'t really like about l_a\"], [\\'   what are '\n",
            " \"some things you really like about l_a'], ['  Score: 0.8895\")\n",
            "' congestion\\'], [\\'   the weather um well the weather\\'], [\"  Score: 0.5081'\n",
            "(' mhm\\'], [\"   it\\'s always good it\\'s never it\\'s never bad uh um there\\'s '\n",
            " 'always something to do it\\'s rarely a dull moment\"], [\\'  Score: 0.3914')\n",
            "' that\\'s it\"], [\\'   <laughter>\\'], [\\'  Score: 0.6478'\n",
            "' okay\\'], [\"   mhm\\'], [\"  Score: 0.7073'\n",
            "(' what\\'d you study at school\"], [\\'   what are some things you don\\'t really '\n",
            " 'like about l_a\"], [\\'  Score: 0.4952')\n",
            "(\" um i took up business and administration'], ['   the traffic'], ['  Score: \"\n",
            " '0.4841')\n",
            "\" cool'], ['   i see what you mean'], ['  Score: 0.7514\"\n",
            "(\" are you still doing that'], ['   the traffic is horrible well probably \"\n",
            " \"traffic is horrible in almost any major city but i hate the traffic'], ['  \"\n",
            " 'Score: 0.2814')\n",
            "' uh yeah i am\\'], [\"   yeah\\'], [\\'  Score: 0.7713'\n",
            "(\" here and there i'm on a break right now but i plan on going back in the uh \"\n",
            " 'next semester\"], [\"   do you travel a lot\\'], [\"  Score: 0.5332')\n",
            "(' what\\'s your dream job\"], [\\'   not really i mean i have enough things '\n",
            " \"going on here so if i travel it's usually somewhere that's within driving \"\n",
            " 'distance\"], [\\'  Score: 0.3436')\n",
            "(' uh probably to open up my own business\\'], [\\'   aw okay\\'], [\"  Score: '\n",
            " '0.4522')\n",
            "' awesome\\'], [\\'   what\\'d you study at school\"], [\\'  Score: 0.3807'\n",
            "\" do you travel a lot'], ['   i studied uh business'], ['  Score: 0.4553\"\n",
            "\" no'], ['   i did'], ['  Score: 0.7777\"\n",
            "' why\\'], [\\'   are you still doing that\\'], [\"  Score: 0.5773'\n",
            "(' um no specific reason i just\\'], [\"   no i\\'ve i\\'ve been done for a few '\n",
            " 'years so i haven\\'t gone to school for a while\"], [\"  Score: 0.5864')\n",
            "(' don\\'t travel a lot\"], [\"   one of these days i\\'ll go back to graduate '\n",
            " 'school but\"], [\\'  Score: 0.5950')\n",
            "' i\\'m pretty local\"], [\\'   awesome\\'], [\"  Score: 0.5809'\n",
            "' okay\\'], [\\'   what\\'s your dream job\"], [\\'  Score: 0.4580'\n",
            "(\" how often do you go back to your hometown'], ['   my dream job would be to \"\n",
            " 'just work for myself and making lots of money um\\'], [\"  Score: 0.2640')\n",
            "(\" once a year'], ['   i don't know i don't really have a dream job just \"\n",
            " 'something that i can\"], [\\'  Score: 0.3522')\n",
            "(\" nice'], ['   i can work under my own terms and get paid decently and and be \"\n",
            " \"in a creative creative environment'], ['  Score: 0.2648\")\n",
            "\" do you consider yourself an introvert'], ['   mhm'], ['  Score: 0.3036\"\n",
            "(\" can you be a little bit more specific'], ['   how hard is that'], ['  \"\n",
            " 'Score: 0.7003')\n",
            "' whatever comes to your mind\\'], [\\'   um\\'], [\"  Score: 0.5908'\n",
            "(\" no answer'], ['   i don't know i think it's just a matter of finding the \"\n",
            " \"right situation so right now eh it's been people are a little conservative \"\n",
            " \"about what they want so and how they want it so it's a little tougher than \"\n",
            " \"it seems <se> it should be but i don't know i think when the situation's \"\n",
            " 'right i don\\'t think it\\'s too difficult\"], [\\'  Score: 0.0645')\n",
            "\" okay'], ['   yeah'], ['  Score: 0.8497\"\n",
            "(\"  what do you do to relax'], ['   it can be tough to find a good job these \"\n",
            " \"days'], ['  Score: 0.3500\")\n",
            "\" i like reading books i enjoy i enjoy cooking'], ['   yep'], ['  Score: 0.3704\"\n",
            "\" um exercising is great'], ['   what do you do now'], ['  Score: 0.5084\"\n",
            "(\" awesome'], ['   i work as an assistant <as> administrative assistant \"\n",
            " 'through a temp agency so\\'], [\"  Score: 0.4280')\n",
            "(' how are you at controlling your temper\\'], [\"   it\\'s just basically i get '\n",
            " 'sent out to do uh\"], [\\'  Score: 0.4443')\n",
            "' i\\'m i\\'m i\\'m pretty good at it\"], [\\'   cool\\'], [\\'  Score: 0.5852'\n",
            "\" um'], ['   to do desk jobs '], ['  Score: 0.5588\"\n",
            "\" really'], ['   are you happy you did that'], ['  Score: 0.6265\"\n",
            "(\" yeah'], ['   um yes and no i mean i feel like i feel like i could do more \"\n",
            " \"but you know it works so '], ['  Score: 0.5721\")\n",
            "(\" when was the last time you argued with someone and what was it about'], \"\n",
            " \"['   you know yeah'], ['  Score: 0.4038\")\n",
            "\" um probably about'], ['   okay'], ['  Score: 0.7117\"\n",
            "(' two weeks ago\\'], [\\'   how close are you to your family\\'], [\"  Score: '\n",
            " '0.4246')\n",
            "(\" how did you feel in that moment'], ['   i'm pretty close i mean they're \"\n",
            " 'around so\"], [\\'  Score: 0.4578')\n",
            "\" uh frustrated'], ['   hmm'], ['  Score: 0.6591\"\n",
            "(\" tell me more about that'], ['   what are some things that make you really \"\n",
            " \"mad'], ['  Score: 0.4156\")\n",
            "' um\\'], [\"   um god really mad\\'], [\\'  Score: 0.5879'\n",
            "(' i don\\'t like bias\"], [\"   stupid people just basically doing just doing '\n",
            " \"anything to annoy me'], ['  Score: 0.4400\")\n",
            "(\" um i don't like um when someone says they're gonna do something and they \"\n",
            " 'don\\'t\"], [\\'   um\\'], [\"  Score: 0.5808')\n",
            "(\" mhm'], ['   that's basically <ba> that's the big thing just just irritating \"\n",
            " 'stupid people <laughter> who just do things just to provoke provoke me for '\n",
            " 'no reason at all\"], [\\'  Score: 0.3289')\n",
            "\" how close are you to them'], ['   mhm'], ['  Score: 0.5592\"\n",
            "(' uh somewhat\\'], [\\'   can you give me an example of that\\'], [\"  Score: '\n",
            " '0.6391')\n",
            "' how do you know them\\'], [\\'   um what\\'s a good example\"], [\"  Score: 0.6942'\n",
            "(\" friendship'], ['   just random people who who think it's funny to just sit \"\n",
            " \"there and get a rise out of me just it doesn't have to be one any \"\n",
            " 'specific\"], [\"  Score: 0.3413')\n",
            "(\" okay'], ['   situation it's just people who just think it's funny to i \"\n",
            " \"think they're just generally sadistic and they just think it's it's funny to \"\n",
            " \"to just prod you like it's like poking a stick at an angry dog knowing that \"\n",
            " 'they know how to they just wanna push your buttons for no reason so\"], [\\'  '\n",
            " 'Score: 0.0583')\n",
            "(\" what are some things you like to do for fun'], ['   right'], ['  Score: \"\n",
            " '0.4410')\n",
            "(\" i like to play sports i enjoy uh going out with friends and family'], ['   \"\n",
            " \"when was the last time that happened'], ['  Score: 0.1891\")\n",
            "' playing games\\'], [\\'   uh god\\'], [\"  Score: 0.5140'\n",
            "(' nice\\'], [\"   i don\\'t remember i with those situations i usually try not '\n",
            " 'to remember <laughter> when when it happens i just i just let it go and just '\n",
            " 'like the past is the past i just tend not to look back\"], [\\'  Score: 0.1519')\n",
            "(' who\\'s someone that\\'s been a positive influence in your life\"], [\\'   i '\n",
            " \"understand'], ['  Score: 0.2876\")\n",
            "(\" grandparents'], ['   do you consider yourself an introvert'], ['  Score: \"\n",
            " '0.2535')\n",
            "' parents\\'], [\\'   what do you mean\\'], [\"  Score: 0.5695'\n",
            "' aww\\'], [\\'   let\\'s come back to that later\"], [\\'  Score: 0.6441'\n",
            "' can you tell me about that\\'], [\"   okay\\'], [\\'  Score: 0.7057'\n",
            "(' um yeah i mean they\\'ve always given me great advice\"], [\"   what do you do '\n",
            " \"to relax'], ['  Score: 0.3865\")\n",
            "(' they\\'ve always kept it real\"], [\\'   god what do i do to relax i like to '\n",
            " 'run i like to go to the gym\\'], [\"  Score: 0.1790')\n",
            "(\" how close are you to your family'], ['   listen to music i have a lot of \"\n",
            " 'musician friends so i just so i\\'m usually around musicians so\"], [\\'  '\n",
            " 'Score: 0.3261')\n",
            "' real close\\'], [\\'   anything of that sort i like\\'], [\"  Score: 0.6054'\n",
            "(\" is there anything you regret'], ['   i like everything from punk rock art \"\n",
            " 'to tattoos to just anything that\\'s that\\'s generally art and creative\"], '\n",
            " \"['  Score: 0.3024\")\n",
            "(\" i would say going to college right after high school'], ['   awesome'], \"\n",
            " '[\"  Score: 0.2942')\n",
            "(' why\\'], [\"   who\\'s someone that\\'s been a positive influence in your '\n",
            " 'life\"], [\"  Score: 0.3276')\n",
            "(' well i would\\'ve been done by now you know\"], [\\'   who\\'s been a positive '\n",
            " '<pos>\"], [\"  Score: 0.3567')\n",
            "(\" i would have been probably out in the field'], ['   i think it's just \"\n",
            " 'friends in general who who seem to who seem to do well and i think they '\n",
            " 'they\\'re very inspiring and\"], [\"  Score: 0.1512')\n",
            "(\" in the career field'], ['   which is sometimes a a bit tough in in a town \"\n",
            " \"like los angeles where i think everybody's on the go trying to accomplish \"\n",
            " 'their own goals so they don\\'t\"], [\\'  Score: 0.4005')\n",
            "' what made you decide to do that\\'], [\\'   mhm\\'], [\"  Score: 0.4909'\n",
            "(\" uh taking a job off the street'], ['   it's sometimes hard to find someone \"\n",
            " 'who\\'s gonna be uplifting or try to be inspiring so\"], [\"  Score: 0.3060')\n",
            "(' could you have done anything to avoid it\\'], [\"   i don\\'t really have '\n",
            " 'anybody in particular but people have kind of brought up things here and '\n",
            " 'there\"], [\\'  Score: 0.5094')\n",
            "' i\\'m sure i could\\'ve yes\"], [\"   like what\\'], [\"  Score: 0.5655'\n",
            "(' what\\'s one of your most memorable experiences\"], [\"   you know just like '\n",
            " \"hey instead of instead of doing this how about doing that or hey you're good \"\n",
            " \"at this why aren't you doing that or something like that just you know i'm \"\n",
            " 'always looking for new opportunities so they always point out things that '\n",
            " 'maybe i might i could do differently\"], [\"  Score: 0.3119')\n",
            "(' i\\'m not sure\"], [\\'   instead of just being negative saying hey don\\'t do '\n",
            " 'that that\\'s no that\\'s why are you doing that it\\'s a waste of time\"], [\\'  '\n",
            " 'Score: 0.4082')\n",
            "' maybe when i graduated from high school\\'], [\\'   mmm\\'], [\"  Score: 0.4226'\n",
            "' yeah\\'], [\"   that\\'s good\"], [\\'  Score: 0.7411'\n",
            "(' i\\'d love to hear all about it\"], [\\'   how are you at controlling your '\n",
            " \"temper'], ['  Score: 0.2504\")\n",
            "(\" well uh i um i got my diploma'], ['   um i guess it depends on who you talk \"\n",
            " \"to'], ['  Score: 0.5413\")\n",
            "(\" my my diploma that i finished school and i met all the requirements '], \"\n",
            " '[\\'   <laughter>\\'], [\"  Score: 0.2454')\n",
            "(' high school\\'], [\\'   i\\'m i\\'m okay at it i could probably work at that\"], '\n",
            " \"['  Score: 0.4790\")\n",
            "' and i was approved to go\\'], [\\'   um\\'], [\"  Score: 0.5514'\n",
            "(' do whatever i wanted to do\\'], [\"   i don\\'t know i mean i can i i think i '\n",
            " 'can do better at it\"], [\\'  Score: 0.6001')\n",
            "(' that\\'s great\"], [\"   can you give me an example of that\\'], [\\'  Score: '\n",
            " '0.5794')\n",
            "(' what\\'s it like for you living with them\"], [\\'   well back to the point '\n",
            " 'about people provoking me so i mean i try not to blow steam and let them get '\n",
            " 'under my skin so i just usually try not to let it get to me\\'], [\"  Score: '\n",
            " '0.3713')\n",
            "(\" living with who'], ['   but i don't know i guess with temper i guess it \"\n",
            " 'depends on how i handle my stress\"], [\"  Score: 0.3652')\n",
            "(' how do you like your living situation\\'], [\"   lately i\\'ve been better at '\n",
            " 'it just because i think my situation\\'s been a little bit better\"], [\"  '\n",
            " 'Score: 0.6645')\n",
            "(' um it\\'s alright it could be better\"], [\\'   that\\'s good\"], [\\'  Score: '\n",
            " '0.7389')\n",
            "(\" do you have roommates'], ['   have you been diagnosed with depression'], \"\n",
            " \"['  Score: 0.4126\")\n",
            "\" not'], ['   no'], ['  Score: 0.9071\"\n",
            "' no\\'], [\"   have you ever been diagnosed with p_t_s_d\\'], [\\'  Score: 0.2833'\n",
            "' that\\'s good\"], [\"   no\\'], [\\'  Score: 0.6986'\n",
            "(' how easy is it for you to get a good night\\'s sleep\"], [\"   have you ever '\n",
            " \"served in the military'], ['  Score: 0.3555\")\n",
            "' uh it\\'s pretty easy\"], [\\'   no\\'], [\\'  Score: 0.6552'\n",
            "\" do you feel that way often'], ['   okay'], ['  Score: 0.5806\"\n",
            "' uh yes\\'], [\"   is there anything you regret\\'], [\\'  Score: 0.5174'\n",
            "(' what are you like when you don\\'t sleep well\"], [\\'   um\\'], [\\'  Score: '\n",
            " '0.4751')\n",
            "' repeat that\\'], [\"   nothing major\\'], [\"  Score: 0.5614'\n",
            "(' what are you like when you don\\'t sleep well\"], [\\'   i mean maybe when i '\n",
            " \"was younger i could've traveled more or i could've worked towards something \"\n",
            " 'that paid better job-wise but i mean\"], [\"  Score: 0.2996')\n",
            "(\" irritated um'], ['   those are all things that i think at any point in life \"\n",
            " 'you always think like well i coulda shoulda would\\'ve done but you know\"], '\n",
            " '[\"  Score: 0.3549')\n",
            "(\" lazy'], ['   but then again i think that's natural for anybody i mean i \"\n",
            " \"could i could've become a banker or i could've become a lawyer or a doctor \"\n",
            " 'and made about ten times the money that i make now but\"], [\"  Score: 0.2465')\n",
            "(\" do you feel down'], ['   but then again i don't like the law and i don't \"\n",
            " 'like medicine so so i\\'m it wasn\\'t meant to be so\"], [\\'  Score: 0.3754')\n",
            "' no\\'], [\"   right\\'], [\"  Score: 0.8200'\n",
            "(' that\\'s good\"], [\\'   there are always trade offs in life aren\\'t there\"], '\n",
            " \"['  Score: 0.4766\")\n",
            "\" have you been diagnosed with depression'], ['   yeah'], ['  Score: 0.4650\"\n",
            "\" no'], ['   what made you decide to do that'], ['  Score: 0.5964\"\n",
            "\" have you ever been diagnosed with p_t_s_d'], ['   so'], ['  Score: 0.2503\"\n",
            "\" no'], ['   um i think'], ['  Score: 0.7716\"\n",
            "\" have you ever served in the military'], ['   i think my'], ['  Score: 0.4484\"\n",
            "' no\\'], [\\'   in my life i knew that\\'], [\"  Score: 0.6468'\n",
            "(\" okay'], ['   i there's a lot of things i have <ha> there's more dislikes \"\n",
            " '<laughter> than likes so i kinda narrowed it down to what am i good at and '\n",
            " 'what am i not good at and what am i gonna work well or who who am i gonna '\n",
            " 'work well with and who will i not work well with\"], [\\'  Score: 0.3108')\n",
            "(\" when was the last time you felt really happy'], ['   so i kind of i kinda \"\n",
            " \"sorted out and then the list kind of'], ['  Score: 0.3688\")\n",
            "\" um the other day'], ['   mmm kind of answered itself so'], ['  Score: 0.5932\"\n",
            "(' tell me more about that\\'], [\\'   that sounds really hard\\'], [\"  Score: '\n",
            " '0.6643')\n",
            "(\" weather was great sun was out'], ['   no it i don't think it was hard but \"\n",
            " \"it was just but i think it was a real reality check and i think it it's kind \"\n",
            " \"of a good thing 'cause sometimes trying to conform to doing things that \"\n",
            " 'doesn\\'t really fit you doesn\\'t make sense\"], [\"  Score: 0.1812')\n",
            "(' that sounds like a great situation\\'], [\"   it\\'s like trying to shove a a '\n",
            " \"round peg into a square a square hole and it's like it just no matter how \"\n",
            " \"you try to shove it in it's not gonna go in so sometimes it's just might as \"\n",
            " 'well go down a path that seems to work better for you\"], [\\'  Score: 0.3061')\n",
            "' what do you think of today\\'s kids\"], [\\'   right\\'], [\\'  Score: 0.4131'\n",
            "' different\\'], [\\'   that makes sense\\'], [\"  Score: 0.7161'\n",
            "(\" can you give me an example of that'], ['   what's one of your most \"\n",
            " 'memorable experiences\"], [\\'  Score: 0.4246')\n",
            "' less\\'], [\\'   memorable experiences um hmm\\'], [\"  Score: 0.3728'\n",
            "(\" less um'], ['   i think it's just i don't really have like any one in \"\n",
            " 'particular i think i think every day is almost like a memorable experience '\n",
            " \"whether it's positive or negative i think it's just everything from getting \"\n",
            " 'it just just the fact that\"], [\"  Score: 0.1890')\n",
            "(\" interested'], ['   i got a job and i can i can take care of myself is \"\n",
            " 'already almost like a memorable experience maybe for the average person it '\n",
            " 'it sounds stupid but you know i think just the fact that i\\'m able\"], [\"  '\n",
            " 'Score: 0.2700')\n",
            "(\" [laughter]'], ['   i'm able to get this far in life without like completely \"\n",
            " 'self-destructing is already an accomplishment so i feel like\"], [\"  Score: '\n",
            " '0.3590')\n",
            "' i see what you mean\\'], [\"   i\\'ve gotten somewhere\"], [\"  Score: 0.7127'\n",
            "(' what do you do when you\\'re annoyed\"], [\\'   that\\'s great\"], [\"  Score: '\n",
            " '0.5228')\n",
            "(\" uh shut down'], ['   maybe not to not maybe not to the point to the average \"\n",
            " \"person they might think like well why aren't you a millionaire but you know \"\n",
            " 'what not everybody can be a millionaire\"], [\\'  Score: 0.2015')\n",
            "\" when was the last time that happened'], ['   yeah'], ['  Score: 0.5260\"\n",
            "\" uh about two weeks ago'], ['   i see what you mean'], ['  Score: 0.5910\"\n",
            "\" mhm'], ['   yeah'], ['  Score: 0.7239\"\n",
            "(\" can you tell me about that'], ['   when was the last time you felt really \"\n",
            " \"happy'], ['  Score: 0.4189\")\n",
            "(\" uh yeah a friend of mine was annoying me and i just'], ['   um'], ['  \"\n",
            " 'Score: 0.5696')\n",
            "(' cut them off\\'], [\"   when was the last time i really felt happy\\'], [\\'  '\n",
            " 'Score: 0.3347')\n",
            "' i\\'m sorry\"], [\"   um\\'], [\"  Score: 0.7645'\n",
            "(' [laughter] it\\'s alright\"], [\\'   i don\\'t know i\\'m not really someone '\n",
            " 'who\\'s like\"], [\"  Score: 0.5645')\n",
            "(\" how do you know them'], ['   i don't have any real high highs or low lows i \"\n",
            " 'mean i haven\\'t hit any lows so i mean i\"], [\"  Score: 0.4697')\n",
            "(\" friendship'], ['   i don't know i'm usually pretty i feel like i'm a level \"\n",
            " \"person and i'm pretty happy <ha> every day i feel like if i accomplish one \"\n",
            " 'thing then i\\'m pretty happy so\"], [\\'  Score: 0.2756')\n",
            "' cool\\'], [\\'   i guess to answer the question probably\\'], [\"  Score: 0.5620'\n",
            "(\" how would your best friend describe you'], ['   mmm probably yesterday i \"\n",
            " \"just feel like if i if i'm able to accomplish something then then hey i'm \"\n",
            " 'happy\"], [\"  Score: 0.2630')\n",
            "' chocolate\\'], [\\'   that\\'s great\"], [\\'  Score: 0.4967'\n",
            "' tall\\'], [\\'   how would your best friend describe you\\'], [\"  Score: 0.4178'\n",
            "(\" [laughter]'], ['   i don't know i don't really have a best friend but i \"\n",
            " 'mean i well to answer the question generally friends\"], [\"  Score: 0.3418')\n",
            "(\" thin'], ['   i think they would say that i'm very <ver> pretty outgoing i'm \"\n",
            " 'pretty\"], [\\'  Score: 0.3380')\n",
            "' okay\\'], [\"   determined\\'], [\"  Score: 0.6320'\n",
            "(' okay i think i\\'ve asked everything i need to\"], [\\'   i\\'m trying you know '\n",
            " \"i try to you know i try to interact as much as possible i'm always out \"\n",
            " 'networking as much as possible\"], [\\'  Score: 0.5655')\n",
            "' thank you\\'], [\\'   so\\'], [\"  Score: 0.7087'\n",
            "(\" goodbye'], ['   i don't know i guess that's basically what i think they \"\n",
            " 'would describe me as\"], [\\'  Score: 0.5104')\n",
            "' bye bye\\']]   okay\\'], [\"  Score: 0.4944'\n"
          ]
        }
      ]
    },
    {
      "cell_type": "markdown",
      "source": [
        "***Using Unbiased Embeddings***"
      ],
      "metadata": {
        "id": "Piu8d4e4IBb5"
      }
    },
    {
      "cell_type": "code",
      "source": [
        "from transformers import BertTokenizer, BertModel\n",
        "tokenizer = BertTokenizer.from_pretrained('bert-base-uncased')\n",
        "model = BertModel.from_pretrained(\"bert-base-uncased\")\n",
        "text1 = list1\n",
        "text2 = list2\n",
        "encoded_input1 = tokenizer(text1, return_tensors='pt', padding=True, truncation=True)\n",
        "encoded_input2 = tokenizer(text2, return_tensors='pt', padding=True, truncation=True)\n",
        "output1 = model(**encoded_input1)\n",
        "#output2 = model(**encoded_input2)\n",
        "\n"
      ],
      "metadata": {
        "colab": {
          "base_uri": "https://localhost:8080/"
        },
        "id": "chdB0RfqIHj5",
        "outputId": "a1cb38b6-bdb8-477e-8590-e88c09585f17"
      },
      "execution_count": null,
      "outputs": [
        {
          "output_type": "stream",
          "name": "stderr",
          "text": [
            "Some weights of the model checkpoint at bert-base-uncased were not used when initializing BertModel: ['cls.predictions.transform.LayerNorm.bias', 'cls.predictions.transform.dense.weight', 'cls.predictions.transform.dense.bias', 'cls.predictions.decoder.weight', 'cls.seq_relationship.weight', 'cls.predictions.bias', 'cls.predictions.transform.LayerNorm.weight', 'cls.seq_relationship.bias']\n",
            "- This IS expected if you are initializing BertModel from the checkpoint of a model trained on another task or with another architecture (e.g. initializing a BertForSequenceClassification model from a BertForPreTraining model).\n",
            "- This IS NOT expected if you are initializing BertModel from the checkpoint of a model that you expect to be exactly identical (initializing a BertForSequenceClassification model from a BertForSequenceClassification model).\n"
          ]
        }
      ]
    },
    {
      "cell_type": "code",
      "source": [
        "pp.pprint(output1)"
      ],
      "metadata": {
        "id": "o2JYCioIIM1y"
      },
      "execution_count": null,
      "outputs": []
    },
    {
      "cell_type": "code",
      "source": [
        "#pp.pprint(output2)"
      ],
      "metadata": {
        "id": "8qxh0k46S58b"
      },
      "execution_count": null,
      "outputs": []
    }
  ]
}