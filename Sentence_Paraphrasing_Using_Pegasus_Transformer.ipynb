{
  "nbformat": 4,
  "nbformat_minor": 0,
  "metadata": {
    "colab": {
      "provenance": []
    },
    "kernelspec": {
      "name": "python3",
      "display_name": "Python 3"
    },
    "language_info": {
      "name": "python"
    },
    "accelerator": "GPU"
  },
  "cells": [
    {
      "cell_type": "code",
      "execution_count": 4,
      "metadata": {
        "colab": {
          "base_uri": "https://localhost:8080/"
        },
        "id": "XpcQxdKfoUE8",
        "outputId": "86eb08ab-6d08-4fe0-e19a-81cc7c6450ce"
      },
      "outputs": [
        {
          "output_type": "stream",
          "name": "stdout",
          "text": [
            "\u001b[K     |████████████████████████████████| 44 kB 3.4 MB/s \n",
            "\u001b[K     |████████████████████████████████| 4.9 MB 16.1 MB/s \n",
            "\u001b[K     |████████████████████████████████| 6.6 MB 49.5 MB/s \n",
            "\u001b[K     |████████████████████████████████| 120 kB 72.6 MB/s \n",
            "\u001b[K     |████████████████████████████████| 1.3 MB 29.4 MB/s \n",
            "\u001b[?25h"
          ]
        }
      ],
      "source": [
        "!pip install sentence-splitter --quiet\n",
        "!pip install transformers --quiet\n",
        "!pip install SentencePiece --quiet"
      ]
    },
    {
      "cell_type": "code",
      "source": [
        "#importing the PEGASUS Transformer model\n",
        "import torch\n",
        "from transformers import PegasusForConditionalGeneration, PegasusTokenizer\n",
        " \n",
        "model_name = 'tuner007/pegasus_paraphrase'\n",
        "torch_device = 'cuda' if torch.cuda.is_available() else 'cpu'\n",
        "tokenizer = PegasusTokenizer.from_pretrained(model_name)\n",
        "model = PegasusForConditionalGeneration.from_pretrained(model_name).to(torch_device)\n",
        " \n",
        "#setting up the model\n",
        "def get_response(input_text,num_return_sequences):\n",
        "  batch = tokenizer.prepare_seq2seq_batch([input_text],truncation=True,padding='longest',max_length=60, return_tensors=\"pt\").to(torch_device)\n",
        "  translated = model.generate(**batch,max_length=60,num_beams=20, num_return_sequences=num_return_sequences, temperature=1.5)\n",
        "  tgt_text = tokenizer.batch_decode(translated, skip_special_tokens=True)\n",
        "  return tgt_text"
      ],
      "metadata": {
        "id": "59SexYRLotX9"
      },
      "execution_count": 84,
      "outputs": []
    },
    {
      "cell_type": "code",
      "source": [
        "#test input sentence\n",
        "text = \"I will be showing you how to build a web application in Python using the SweetViz and its dependent library.\"\n",
        "\n",
        "#printing response\n",
        "get_response(text, 5)"
      ],
      "metadata": {
        "colab": {
          "base_uri": "https://localhost:8080/"
        },
        "id": "P3R8-3l9o1qD",
        "outputId": "ddb3fb9d-f61d-44d0-f1cc-752ed0e5ef15"
      },
      "execution_count": 6,
      "outputs": [
        {
          "output_type": "stream",
          "name": "stderr",
          "text": [
            "/usr/local/lib/python3.7/dist-packages/transformers/tokenization_utils_base.py:3668: FutureWarning: \n",
            "`prepare_seq2seq_batch` is deprecated and will be removed in version 5 of HuggingFace Transformers. Use the regular\n",
            "`__call__` method to prepare your inputs and targets.\n",
            "\n",
            "Here is a short example:\n",
            "\n",
            "model_inputs = tokenizer(src_texts, text_target=tgt_texts, ...)\n",
            "\n",
            "If you either need to use different keyword arguments for the source and target texts, you should do two calls like\n",
            "this:\n",
            "\n",
            "model_inputs = tokenizer(src_texts, ...)\n",
            "labels = tokenizer(text_target=tgt_texts, ...)\n",
            "model_inputs[\"labels\"] = labels[\"input_ids\"]\n",
            "\n",
            "See the documentation of your specific tokenizer for more details on the specific arguments to the tokenizer of choice.\n",
            "For a more complete example, see the implementation of `prepare_seq2seq_batch`.\n",
            "\n",
            "  warnings.warn(formatted_warning, FutureWarning)\n"
          ]
        },
        {
          "output_type": "execute_result",
          "data": {
            "text/plain": [
              "['I will show you how to use the SweetViz and its dependent library to build a web application.',\n",
              " 'I will show you how to use the SweetViz library to build a web application.',\n",
              " 'I will show you how to build a web application using the SweetViz and its dependent library.',\n",
              " 'I will show you how to use the SweetViz and its dependent library to build a web application in Python.',\n",
              " 'I will show you how to build a web application in Python using the SweetViz library.']"
            ]
          },
          "metadata": {},
          "execution_count": 6
        }
      ]
    },
    {
      "cell_type": "code",
      "source": [
        "context = 'The Blue Whales just played their first baseball game of the new season; I believe there is much to be excited about. Although they lost, it was against an excellent team that had won the championship last year. The Blue Whales fell behind early but showed excellent teamwork and came back to tie the game. The team had 15 hits and scored 8 runs. That’s excellent! Unfortunately, they had 5 fielding errors, which kept the other team in the lead the entire game. The game ended with the umpire making a bad call, and if the call had gone the other way, the Blue Whales might have actually won the game. It wasn’t a victory, but I say the Blue Whales look like they have a shot at the championship, especially if they continue to improve.'"
      ],
      "metadata": {
        "id": "GCmmpxs-o7_c"
      },
      "execution_count": 7,
      "outputs": []
    },
    {
      "cell_type": "code",
      "source": [
        "print(context)"
      ],
      "metadata": {
        "colab": {
          "base_uri": "https://localhost:8080/"
        },
        "id": "cfC8j98tpUTF",
        "outputId": "71344806-d63e-450b-e8ad-0ce3a76b6bdd"
      },
      "execution_count": 8,
      "outputs": [
        {
          "output_type": "stream",
          "name": "stdout",
          "text": [
            "The Blue Whales just played their first baseball game of the new season; I believe there is much to be excited about. Although they lost, it was against an excellent team that had won the championship last year. The Blue Whales fell behind early but showed excellent teamwork and came back to tie the game. The team had 15 hits and scored 8 runs. That’s excellent! Unfortunately, they had 5 fielding errors, which kept the other team in the lead the entire game. The game ended with the umpire making a bad call, and if the call had gone the other way, the Blue Whales might have actually won the game. It wasn’t a victory, but I say the Blue Whales look like they have a shot at the championship, especially if they continue to improve.\n"
          ]
        }
      ]
    },
    {
      "cell_type": "code",
      "source": [
        "#Takes the input paragraph and splits it into a list of sentences\n",
        "from sentence_splitter import SentenceSplitter, split_text_into_sentences\n",
        " \n",
        "splitter = SentenceSplitter(language='en')\n",
        " \n",
        "sentence_list = splitter.split(context)\n",
        "sentence_list"
      ],
      "metadata": {
        "colab": {
          "base_uri": "https://localhost:8080/"
        },
        "id": "eqxux_f7pYU-",
        "outputId": "a076d1d8-69d1-4dfe-b1e0-675204987b4e"
      },
      "execution_count": 9,
      "outputs": [
        {
          "output_type": "execute_result",
          "data": {
            "text/plain": [
              "['The Blue Whales just played their first baseball game of the new season; I believe there is much to be excited about.',\n",
              " 'Although they lost, it was against an excellent team that had won the championship last year.',\n",
              " 'The Blue Whales fell behind early but showed excellent teamwork and came back to tie the game.',\n",
              " 'The team had 15 hits and scored 8 runs.',\n",
              " 'That’s excellent!',\n",
              " 'Unfortunately, they had 5 fielding errors, which kept the other team in the lead the entire game.',\n",
              " 'The game ended with the umpire making a bad call, and if the call had gone the other way, the Blue Whales might have actually won the game.',\n",
              " 'It wasn’t a victory, but I say the Blue Whales look like they have a shot at the championship, especially if they continue to improve.']"
            ]
          },
          "metadata": {},
          "execution_count": 9
        }
      ]
    },
    {
      "cell_type": "code",
      "source": [
        "paraphrase = []\n",
        " \n",
        "for i in sentence_list:\n",
        "  a = get_response(i,1)\n",
        "  paraphrase.append(a)\n",
        "\n",
        "# Generating the paraphrased text\n",
        "paraphrase"
      ],
      "metadata": {
        "colab": {
          "base_uri": "https://localhost:8080/"
        },
        "id": "C-m-AZh3prO1",
        "outputId": "54a6a565-fbc5-4dfc-96b7-b4e8058efed3"
      },
      "execution_count": 10,
      "outputs": [
        {
          "output_type": "stream",
          "name": "stderr",
          "text": [
            "/usr/local/lib/python3.7/dist-packages/transformers/tokenization_utils_base.py:3668: FutureWarning: \n",
            "`prepare_seq2seq_batch` is deprecated and will be removed in version 5 of HuggingFace Transformers. Use the regular\n",
            "`__call__` method to prepare your inputs and targets.\n",
            "\n",
            "Here is a short example:\n",
            "\n",
            "model_inputs = tokenizer(src_texts, text_target=tgt_texts, ...)\n",
            "\n",
            "If you either need to use different keyword arguments for the source and target texts, you should do two calls like\n",
            "this:\n",
            "\n",
            "model_inputs = tokenizer(src_texts, ...)\n",
            "labels = tokenizer(text_target=tgt_texts, ...)\n",
            "model_inputs[\"labels\"] = labels[\"input_ids\"]\n",
            "\n",
            "See the documentation of your specific tokenizer for more details on the specific arguments to the tokenizer of choice.\n",
            "For a more complete example, see the implementation of `prepare_seq2seq_batch`.\n",
            "\n",
            "  warnings.warn(formatted_warning, FutureWarning)\n"
          ]
        },
        {
          "output_type": "execute_result",
          "data": {
            "text/plain": [
              "[['The first baseball game of the new season was played by the Blue Whales.'],\n",
              " ['They lost, but it was against a team that won the title last year.'],\n",
              " ['The Blue Whales came back to tie the game after falling behind.'],\n",
              " ['The team scored 8 runs.'],\n",
              " ['That is excellent!'],\n",
              " ['They had 5 fielding errors that kept the other team in the lead.'],\n",
              " ['The umpire made a bad call at the end of the game and the Blue Whales could have won the game.'],\n",
              " ['I think the Blue Whales have a chance at the championship if they continue to improve.']]"
            ]
          },
          "metadata": {},
          "execution_count": 10
        }
      ]
    },
    {
      "cell_type": "code",
      "source": [
        "#creating the second split\n",
        "paraphrase2 = [' '.join(x) for x in paraphrase]\n",
        "paraphrase2"
      ],
      "metadata": {
        "colab": {
          "base_uri": "https://localhost:8080/"
        },
        "id": "4GulEAJzpxdG",
        "outputId": "3e4e166e-a836-4dc9-8f95-4f3cd89ec76b"
      },
      "execution_count": 11,
      "outputs": [
        {
          "output_type": "execute_result",
          "data": {
            "text/plain": [
              "['The first baseball game of the new season was played by the Blue Whales.',\n",
              " 'They lost, but it was against a team that won the title last year.',\n",
              " 'The Blue Whales came back to tie the game after falling behind.',\n",
              " 'The team scored 8 runs.',\n",
              " 'That is excellent!',\n",
              " 'They had 5 fielding errors that kept the other team in the lead.',\n",
              " 'The umpire made a bad call at the end of the game and the Blue Whales could have won the game.',\n",
              " 'I think the Blue Whales have a chance at the championship if they continue to improve.']"
            ]
          },
          "metadata": {},
          "execution_count": 11
        }
      ]
    },
    {
      "cell_type": "code",
      "source": [
        "# Combine the above splitted lists into a paragraph\n",
        "paraphrase3 = [' '.join(x for x in paraphrase2) ]\n",
        "paraphrased_text = str(paraphrase3).strip('[]').strip(\"'\")\n",
        "paraphrased_text"
      ],
      "metadata": {
        "colab": {
          "base_uri": "https://localhost:8080/",
          "height": 70
        },
        "id": "cCQ_7-sWp7Kg",
        "outputId": "95004050-3f18-4a1e-e0f1-43a88303c8fe"
      },
      "execution_count": 12,
      "outputs": [
        {
          "output_type": "execute_result",
          "data": {
            "text/plain": [
              "'The first baseball game of the new season was played by the Blue Whales. They lost, but it was against a team that won the title last year. The Blue Whales came back to tie the game after falling behind. The team scored 8 runs. That is excellent! They had 5 fielding errors that kept the other team in the lead. The umpire made a bad call at the end of the game and the Blue Whales could have won the game. I think the Blue Whales have a chance at the championship if they continue to improve.'"
            ],
            "application/vnd.google.colaboratory.intrinsic+json": {
              "type": "string"
            }
          },
          "metadata": {},
          "execution_count": 12
        }
      ]
    },
    {
      "cell_type": "code",
      "source": [
        "# Comparison of the original (context variable) and the paraphrased version (paraphrase3 variable)\n",
        " \n",
        "print(context)\n",
        "print(paraphrased_text)"
      ],
      "metadata": {
        "colab": {
          "base_uri": "https://localhost:8080/"
        },
        "id": "BtZva7oTqARZ",
        "outputId": "4e9e8329-20fa-42b3-b5bf-34c69c53f1f2"
      },
      "execution_count": 13,
      "outputs": [
        {
          "output_type": "stream",
          "name": "stdout",
          "text": [
            "The Blue Whales just played their first baseball game of the new season; I believe there is much to be excited about. Although they lost, it was against an excellent team that had won the championship last year. The Blue Whales fell behind early but showed excellent teamwork and came back to tie the game. The team had 15 hits and scored 8 runs. That’s excellent! Unfortunately, they had 5 fielding errors, which kept the other team in the lead the entire game. The game ended with the umpire making a bad call, and if the call had gone the other way, the Blue Whales might have actually won the game. It wasn’t a victory, but I say the Blue Whales look like they have a shot at the championship, especially if they continue to improve.\n",
            "The first baseball game of the new season was played by the Blue Whales. They lost, but it was against a team that won the title last year. The Blue Whales came back to tie the game after falling behind. The team scored 8 runs. That is excellent! They had 5 fielding errors that kept the other team in the lead. The umpire made a bad call at the end of the game and the Blue Whales could have won the game. I think the Blue Whales have a chance at the championship if they continue to improve.\n"
          ]
        }
      ]
    },
    {
      "cell_type": "code",
      "source": [
        "import pandas as pd"
      ],
      "metadata": {
        "id": "baK1b8xBqe3Y"
      },
      "execution_count": 14,
      "outputs": []
    },
    {
      "cell_type": "code",
      "source": [
        "all_texts = pd.read_csv('/content/df_all_texts.csv')\n",
        "all_texts.head()\n"
      ],
      "metadata": {
        "colab": {
          "base_uri": "https://localhost:8080/",
          "height": 206
        },
        "id": "0MqSLq2kqyFm",
        "outputId": "cd40f850-4dda-4a1a-a624-a489662667c0"
      },
      "execution_count": 16,
      "outputs": [
        {
          "output_type": "execute_result",
          "data": {
            "text/plain": [
              "                                           utterance  \\\n",
              "0   Well yeah, the relationship... O.K. I have to...   \n",
              "1                                             Ah-ha.   \n",
              "2                                             Um-um.   \n",
              "3   You know, I guess I feel I need to clarify wh...   \n",
              "4   A good girl,\" or something I feel like, Oh go...   \n",
              "\n",
              "                                            response  \n",
              "0   I kinda missed that, you don’t operate like t...  \n",
              "1                                 I just kind of....  \n",
              "2                         Missed the point Yeah, OK.  \n",
              "3                                             Ah-ha.  \n",
              "4                                     (short laugh).  "
            ],
            "text/html": [
              "\n",
              "  <div id=\"df-155ce823-8c53-476b-bc0a-e222812ea49e\">\n",
              "    <div class=\"colab-df-container\">\n",
              "      <div>\n",
              "<style scoped>\n",
              "    .dataframe tbody tr th:only-of-type {\n",
              "        vertical-align: middle;\n",
              "    }\n",
              "\n",
              "    .dataframe tbody tr th {\n",
              "        vertical-align: top;\n",
              "    }\n",
              "\n",
              "    .dataframe thead th {\n",
              "        text-align: right;\n",
              "    }\n",
              "</style>\n",
              "<table border=\"1\" class=\"dataframe\">\n",
              "  <thead>\n",
              "    <tr style=\"text-align: right;\">\n",
              "      <th></th>\n",
              "      <th>utterance</th>\n",
              "      <th>response</th>\n",
              "    </tr>\n",
              "  </thead>\n",
              "  <tbody>\n",
              "    <tr>\n",
              "      <th>0</th>\n",
              "      <td>Well yeah, the relationship... O.K. I have to...</td>\n",
              "      <td>I kinda missed that, you don’t operate like t...</td>\n",
              "    </tr>\n",
              "    <tr>\n",
              "      <th>1</th>\n",
              "      <td>Ah-ha.</td>\n",
              "      <td>I just kind of....</td>\n",
              "    </tr>\n",
              "    <tr>\n",
              "      <th>2</th>\n",
              "      <td>Um-um.</td>\n",
              "      <td>Missed the point Yeah, OK.</td>\n",
              "    </tr>\n",
              "    <tr>\n",
              "      <th>3</th>\n",
              "      <td>You know, I guess I feel I need to clarify wh...</td>\n",
              "      <td>Ah-ha.</td>\n",
              "    </tr>\n",
              "    <tr>\n",
              "      <th>4</th>\n",
              "      <td>A good girl,\" or something I feel like, Oh go...</td>\n",
              "      <td>(short laugh).</td>\n",
              "    </tr>\n",
              "  </tbody>\n",
              "</table>\n",
              "</div>\n",
              "      <button class=\"colab-df-convert\" onclick=\"convertToInteractive('df-155ce823-8c53-476b-bc0a-e222812ea49e')\"\n",
              "              title=\"Convert this dataframe to an interactive table.\"\n",
              "              style=\"display:none;\">\n",
              "        \n",
              "  <svg xmlns=\"http://www.w3.org/2000/svg\" height=\"24px\"viewBox=\"0 0 24 24\"\n",
              "       width=\"24px\">\n",
              "    <path d=\"M0 0h24v24H0V0z\" fill=\"none\"/>\n",
              "    <path d=\"M18.56 5.44l.94 2.06.94-2.06 2.06-.94-2.06-.94-.94-2.06-.94 2.06-2.06.94zm-11 1L8.5 8.5l.94-2.06 2.06-.94-2.06-.94L8.5 2.5l-.94 2.06-2.06.94zm10 10l.94 2.06.94-2.06 2.06-.94-2.06-.94-.94-2.06-.94 2.06-2.06.94z\"/><path d=\"M17.41 7.96l-1.37-1.37c-.4-.4-.92-.59-1.43-.59-.52 0-1.04.2-1.43.59L10.3 9.45l-7.72 7.72c-.78.78-.78 2.05 0 2.83L4 21.41c.39.39.9.59 1.41.59.51 0 1.02-.2 1.41-.59l7.78-7.78 2.81-2.81c.8-.78.8-2.07 0-2.86zM5.41 20L4 18.59l7.72-7.72 1.47 1.35L5.41 20z\"/>\n",
              "  </svg>\n",
              "      </button>\n",
              "      \n",
              "  <style>\n",
              "    .colab-df-container {\n",
              "      display:flex;\n",
              "      flex-wrap:wrap;\n",
              "      gap: 12px;\n",
              "    }\n",
              "\n",
              "    .colab-df-convert {\n",
              "      background-color: #E8F0FE;\n",
              "      border: none;\n",
              "      border-radius: 50%;\n",
              "      cursor: pointer;\n",
              "      display: none;\n",
              "      fill: #1967D2;\n",
              "      height: 32px;\n",
              "      padding: 0 0 0 0;\n",
              "      width: 32px;\n",
              "    }\n",
              "\n",
              "    .colab-df-convert:hover {\n",
              "      background-color: #E2EBFA;\n",
              "      box-shadow: 0px 1px 2px rgba(60, 64, 67, 0.3), 0px 1px 3px 1px rgba(60, 64, 67, 0.15);\n",
              "      fill: #174EA6;\n",
              "    }\n",
              "\n",
              "    [theme=dark] .colab-df-convert {\n",
              "      background-color: #3B4455;\n",
              "      fill: #D2E3FC;\n",
              "    }\n",
              "\n",
              "    [theme=dark] .colab-df-convert:hover {\n",
              "      background-color: #434B5C;\n",
              "      box-shadow: 0px 1px 3px 1px rgba(0, 0, 0, 0.15);\n",
              "      filter: drop-shadow(0px 1px 2px rgba(0, 0, 0, 0.3));\n",
              "      fill: #FFFFFF;\n",
              "    }\n",
              "  </style>\n",
              "\n",
              "      <script>\n",
              "        const buttonEl =\n",
              "          document.querySelector('#df-155ce823-8c53-476b-bc0a-e222812ea49e button.colab-df-convert');\n",
              "        buttonEl.style.display =\n",
              "          google.colab.kernel.accessAllowed ? 'block' : 'none';\n",
              "\n",
              "        async function convertToInteractive(key) {\n",
              "          const element = document.querySelector('#df-155ce823-8c53-476b-bc0a-e222812ea49e');\n",
              "          const dataTable =\n",
              "            await google.colab.kernel.invokeFunction('convertToInteractive',\n",
              "                                                     [key], {});\n",
              "          if (!dataTable) return;\n",
              "\n",
              "          const docLinkHtml = 'Like what you see? Visit the ' +\n",
              "            '<a target=\"_blank\" href=https://colab.research.google.com/notebooks/data_table.ipynb>data table notebook</a>'\n",
              "            + ' to learn more about interactive tables.';\n",
              "          element.innerHTML = '';\n",
              "          dataTable['output_type'] = 'display_data';\n",
              "          await google.colab.output.renderOutput(dataTable, element);\n",
              "          const docLink = document.createElement('div');\n",
              "          docLink.innerHTML = docLinkHtml;\n",
              "          element.appendChild(docLink);\n",
              "        }\n",
              "      </script>\n",
              "    </div>\n",
              "  </div>\n",
              "  "
            ]
          },
          "metadata": {},
          "execution_count": 16
        }
      ]
    },
    {
      "cell_type": "code",
      "source": [
        "all_texts_test = all_texts[:5]\n",
        "all_texts_test.values.tolist()"
      ],
      "metadata": {
        "colab": {
          "base_uri": "https://localhost:8080/"
        },
        "id": "Q8cPZR2jq4_H",
        "outputId": "283aa198-8d67-4afb-9d52-1749d5c5771c"
      },
      "execution_count": 17,
      "outputs": [
        {
          "output_type": "execute_result",
          "data": {
            "text/plain": [
              "[[' Well yeah, the relationship... O.K. I have to clarify that we have only known each other for two weeks, O.K. And its probably premature, but we spent a whole lot of time with each other in the past week and a half and I was basically on cloud nine about the whole thing. And we were talking about going camping together which just sounded like a great idea. And he seemed to really be enjoying me and I was enjoying him and I was kind of wondering gee when is the honeymoon going to end. But... feeling like I was ready to enjoy it as long as it lasted And then he reported to me that he had talked to his mom and dad and they had inquired as to whether he had spent the night at my place or not and he told them that he had slept on the sofa which indeed he did. But then he was feeling like he couldn’t do that any more. And I felt hurt a little bit at that. And I’m not sure . .. I’m not sure, . .. I’m a little angry, where my anger is directed at. I’m a little confused . . as to whether it’s at his parents or at him. I think both. Um, probably the thing that that strikes me the most is that he would allow his parents to make decisions for him. I feel like... if he genuinely inside feels like its wrong to spend the night, if he feels like he doesn’t want to do that because he feels like it’s not right, then I can really accept that. I can accept and respect it either way, but that doesn’t get me angry. It makes me feel a little disappointed or, you know, \"shucks I want you to stay with me. I wish you didn’t feel that way.\" But I feel angrier with him I think because it seems to be the situation where he doesn’t deep down feel that way. It’s more like he feels like he has to do this for his parents. And I don’t know ... I guess um... I was involved in a two year relationship with a man who couldn’t make a commitment to me because he was married to his mother. And I’m cautious about getting involved in a situation that’s similar .... I see, there’s ... a difference ... if he ... if he really um ... I think some people can really feel that they want do something for their parents because their parents request it and on the other hand, \"Gee I got to that because its my parents wishes.\" See, I don’t operate like that. Not that I haven’t in the past. But I don’t and ... I don’t know',\n",
              "  \" I kinda missed that, you don’t operate like that . .. you don’t do things ... You don't like to feel its good to do things you really don’t want to do just because they kind of think you should. Is that....\"],\n",
              " [' Ah-ha.', ' I just kind of....'],\n",
              " [' Um-um.', ' Missed the point Yeah, OK.'],\n",
              " [' You know, I guess I feel I need to clarify what I mean. Well, there are things like that my mom wants me to do like write a thank you letter to somebody if they send me something like a card or a gift or whatever I want to write a thank you letter because I feel like I want to write a thank you letter. And my relationship with my mom has improved like. I used to get angry with her \"Mom don’t tell me to do that. 1 know to do that\" you know. But now I deal with her a little differently. I say either, you know, \"I’ve already sent it.” But then see it kind of ribs me if I say that to her if I say, \"Well, I’ve already sent it.” \"Oh Good, you’re such . ..',\n",
              "  ' Ah-ha.'],\n",
              " [' A good girl,\" or something I feel like, Oh gosh. You know, (short laugh).',\n",
              "  ' (short laugh).']]"
            ]
          },
          "metadata": {},
          "execution_count": 17
        }
      ]
    },
    {
      "cell_type": "code",
      "source": [
        "all_texts_test.shape"
      ],
      "metadata": {
        "colab": {
          "base_uri": "https://localhost:8080/"
        },
        "id": "P8GwrMEc4fW6",
        "outputId": "4d45f397-c95d-436c-ce35-2ecf54b3fbf9"
      },
      "execution_count": 18,
      "outputs": [
        {
          "output_type": "execute_result",
          "data": {
            "text/plain": [
              "(5, 2)"
            ]
          },
          "metadata": {},
          "execution_count": 18
        }
      ]
    },
    {
      "cell_type": "code",
      "source": [
        "#Testing the paraphaser on our own data\n",
        "\n",
        "\n",
        "from sentence_splitter import SentenceSplitter, split_text_into_sentences\n",
        " \n",
        "splitter = SentenceSplitter(language='en')\n",
        " \n",
        "sentence_list = splitter.split(str(all_texts_test.values))\n",
        "sentence_list"
      ],
      "metadata": {
        "colab": {
          "base_uri": "https://localhost:8080/"
        },
        "id": "U8LK7z2JqD4z",
        "outputId": "1fde7e47-a69b-433d-fe16-5c581f7075d7"
      },
      "execution_count": 20,
      "outputs": [
        {
          "output_type": "execute_result",
          "data": {
            "text/plain": [
              "[\"[[' Well yeah, the relationship...\",\n",
              " 'O.K. I have to clarify that we have only known each other for two weeks, O.K. And its probably premature, but we spent a whole lot of time with each other in the past week and a half and I was basically on cloud nine about the whole thing.',\n",
              " 'And we were talking about going camping together which just sounded like a great idea.',\n",
              " 'And he seemed to really be enjoying me and I was enjoying him and I was kind of wondering gee when is the honeymoon going to end.',\n",
              " 'But... feeling like I was ready to enjoy it as long as it lasted And then he reported to me that he had talked to his mom and dad and they had inquired as to whether he had spent the night at my place or not and he told them that he had slept on the sofa which indeed he did.',\n",
              " 'But then he was feeling like he couldn’t do that any more.',\n",
              " 'And I felt hurt a little bit at that.',\n",
              " 'And I’m not sure . ..',\n",
              " 'I’m not sure, . ..',\n",
              " 'I’m a little angry, where my anger is directed at.',\n",
              " 'I’m a little confused . . as to whether it’s at his parents or at him.',\n",
              " 'I think both.',\n",
              " 'Um, probably the thing that that strikes me the most is that he would allow his parents to make decisions for him.',\n",
              " 'I feel like... if he genuinely inside feels like its wrong to spend the night, if he feels like he doesn’t want to do that because he feels like it’s not right, then I can really accept that.',\n",
              " 'I can accept and respect it either way, but that doesn’t get me angry.',\n",
              " 'It makes me feel a little disappointed or, you know, \"shucks I want you to stay with me.',\n",
              " 'I wish you didn’t feel that way.\"',\n",
              " 'But I feel angrier with him I think because it seems to be the situation where he doesn’t deep down feel that way.',\n",
              " 'It’s more like he feels like he has to do this for his parents.',\n",
              " 'And I don’t know ...',\n",
              " 'I guess um...',\n",
              " 'I was involved in a two year relationship with a man who couldn’t make a commitment to me because he was married to his mother.',\n",
              " 'And I’m cautious about getting involved in a situation that’s similar ....',\n",
              " 'I see, there’s ... a difference ... if he ... if he really um ...',\n",
              " 'I think some people can really feel that they want do something for their parents because their parents request it and on the other hand, \"Gee I got to that because its my parents wishes.\"',\n",
              " 'See, I don’t operate like that.',\n",
              " 'Not that I haven’t in the past.',\n",
              " 'But I don’t and ...',\n",
              " \"I don’t know'\",\n",
              " '\" I kinda missed that, you don’t operate like that . .. you don’t do things ...',\n",
              " \"You don't like to feel its good to do things you really don’t want to do just because they kind of think you should.\",\n",
              " 'Is that....\"]',\n",
              " \"[' Ah-ha.'\",\n",
              " \"' I just kind of....']\",\n",
              " \"[' Um-um.'\",\n",
              " \"' Missed the point Yeah, OK.']\",\n",
              " \"[' You know, I guess I feel I need to clarify what I mean.\",\n",
              " 'Well, there are things like that my mom wants me to do like write a thank you letter to somebody if they send me something like a card or a gift or whatever I want to write a thank you letter because I feel like I want to write a thank you letter.',\n",
              " 'And my relationship with my mom has improved like.',\n",
              " 'I used to get angry with her \"Mom don’t tell me to do that.',\n",
              " '1 know to do that\" you know.',\n",
              " 'But now I deal with her a little differently.',\n",
              " 'I say either, you know, \"I’ve already sent it.”',\n",
              " 'But then see it kind of ribs me if I say that to her if I say, \"Well, I’ve already sent it.”',\n",
              " '\"Oh Good, you’re such . ..\\'',\n",
              " \"' Ah-ha.']\",\n",
              " '[\\' A good girl,\" or something I feel like, Oh gosh.',\n",
              " \"You know, (short laugh).'\",\n",
              " \"' (short laugh).']]\"]"
            ]
          },
          "metadata": {},
          "execution_count": 20
        }
      ]
    },
    {
      "cell_type": "code",
      "source": [
        "sample1 = ['I do not blame you for any of the problems we had when we were trying to navigate our way through my diagnoses. You guys learned all you could in a time before the Internet had the answers and before self-helps books were readily available. You were not bad parents just because you could not fix what was going on in me. You got me help, again, and again, and again and it’s OK it took more than one try to find the right person to help me because along the way I had two people who didn’t give up.']"
      ],
      "metadata": {
        "id": "GqSsOLPuhLto"
      },
      "execution_count": 77,
      "outputs": []
    },
    {
      "cell_type": "code",
      "source": [
        "#paraphrase test of mock clinical questions\n",
        "\n",
        "paraphrase = []\n",
        " \n",
        "for i in sample1:\n",
        "  a = get_response(i,20)\n",
        "  paraphrase.append(a)\n",
        "\n",
        "# Generating the paraphrased text\n",
        "paraphrase"
      ],
      "metadata": {
        "colab": {
          "base_uri": "https://localhost:8080/"
        },
        "id": "sXaRJ1ERqt5F",
        "outputId": "334fff46-7296-44dc-eb6c-c7e76a294d0f"
      },
      "execution_count": 85,
      "outputs": [
        {
          "output_type": "execute_result",
          "data": {
            "text/plain": [
              "[[\"I don't think you should be blamed for the problems we had when we were trying to navigate our way through my diagnoses.\",\n",
              "  \"I don't blame you for what happened when we were trying to navigate our way through my diagnoses.\",\n",
              "  \"I don't think you should be blamed for the things we had when we were trying to navigate our way through my diagnoses.\",\n",
              "  \"I don't think you should be blamed for any of the problems we had when we were trying to navigate our way through my diagnoses.\",\n",
              "  \"I don't think you should be blamed for the issues we had when we were trying to navigate our way through my diagnoses.\",\n",
              "  \"I don't think you should be blamed for the problems we had when we were trying to understand my diagnoses.\",\n",
              "  \"I don't think you should be blamed for the difficulties we had when we were trying to navigate our way through my diagnoses.\",\n",
              "  \"I don't think you should be blamed for the problems we had when we were trying to get through my diagnoses.\",\n",
              "  \"I don't think you should be blamed for any of the issues we had when we were trying to navigate our way through my diagnoses.\",\n",
              "  \"I don't think you should be blamed for the problems we had when we were trying to navigate through my diagnoses.\",\n",
              "  \"We had a lot of problems when we were trying to navigate our way through my diagnoses, but I don't blame you for that.\",\n",
              "  \"I don't think you should be blamed for any of the problems we had when we were trying to understand my diagnoses.\",\n",
              "  \"I don't think you should be blamed for the things we had when we were trying to get through my diagnoses.\",\n",
              "  \"I don't think you should be blamed for the problems we had when we were trying to figure it out.\",\n",
              "  \"I don't think you should be blamed for any of the problems we had when we were trying to get through my diagnoses.\",\n",
              "  \"We had a lot of problems when we were trying to navigate our way through my diagnoses, but I don't blame you.\",\n",
              "  \"I don't blame you for the problems we had when we were trying to navigate our way through my diagnoses.\",\n",
              "  \"We had a lot of problems when we were trying to navigate our way through my diagnoses, but I don't think you should be blamed.\",\n",
              "  \"I don't blame you for what happened when we were trying to navigate through my diagnoses.\",\n",
              "  \"I don't blame you for what happened when we were trying to get through my diagnoses.\"]]"
            ]
          },
          "metadata": {},
          "execution_count": 85
        }
      ]
    }
  ]
}