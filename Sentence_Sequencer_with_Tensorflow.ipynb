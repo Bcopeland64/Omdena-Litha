{
  "nbformat": 4,
  "nbformat_minor": 0,
  "metadata": {
    "colab": {
      "provenance": []
    },
    "kernelspec": {
      "name": "python3",
      "display_name": "Python 3"
    },
    "language_info": {
      "name": "python"
    }
  },
  "cells": [
    {
      "cell_type": "code",
      "execution_count": 1,
      "metadata": {
        "id": "sBZQm16BVrEF"
      },
      "outputs": [],
      "source": [
        "import tensorflow as tf\n",
        "from tensorflow import keras\n",
        "from tensorflow.keras.preprocessing.text import Tokenizer\n",
        "from tensorflow.keras.preprocessing.sequence import pad_sequences\n",
        "\n"
      ]
    },
    {
      "cell_type": "code",
      "source": [
        "session_1 = [\n",
        "    \"Where would you like to be [gestures around the room]?\"\n",
        "    \"And what would you like to have happen now?\"\n",
        "    \"And when you would like to just try it out a bit, what is ?\"\n",
        "    \"And you would like to see what it's like to have a mother in the world. To not be separate and to mother yourself. And what needs to happen for you to mother yourself?\"\n",
        "    \"And when you would like not to be so hard on yourself, and actually have fun, and be a friend, is there anything else you need to mother yourself?\"\n",
        "    \"And when being wrapped up and protected so things don't hurt so much, that's wrapped up and protected like what?\"\n",
        "    \"And having your bubble, your space, and pink, and when you can choose who comes into that space and who doesn't, where is that choose?\"\n",
        "    \"And when it's your gut instinct you rely on or get hurt, whereabouts is that gut instinct?\"\n",
        "    \"And when choose is your gut instinct, does it have a size or a shape?\"\n",
        "    \"And when you didn't mean to throw Yoda in the cave too, where is Yoda now?\"\n",
        "    \"And when he's here, and very inquisitive, is there anything else about Yoda and gut instinct?\"\n",
        "    \"And when you trust Yoda's instincts completely, what would Yoda like to have happen?\"\n",
        "    \"And Yoda would like for you to be proper friends again. And can you be proper friends, and can Yoda be part of your life?\"\n",
        "    \"And he was very very pissed off, but it wasn't meant personally. And Yoda would like to be friends.\"\n",
        "    \"And how long do you need to suffer before Yoda and you can be friends?\"\n",
        "    \"And it's been long enough, and Yoda wants to be proper friends again, and you trust Yoda's instincts completely, and you listen more to your gut instinct. And what are you listening to when you are not listening to your gut instinct?\"\n",
        "    \"And when you aren't listening to your gut instinct you're listening to your fear, and what kind of fear is that fear?\"\n",
        "    \"And what's the first thing that needs to happen for that bubble to be in place?\"\n",
        "    \"And when you need to retreat, and sit quietly with mother and listen and learn to pick up the bits, you need to retreat to where?\"\n",
        "    \"And you need to retreat to the moon. And then what happens?\"\n",
        "    \"And when you listen and learn, and can pick up the bits, what kind of bits are those bits you can pick up?\"\n",
        "    \"And there were so many unfinished bits when she died. And where are unfinished bits now, that you need to pick up when you want to be complete somehow?\"\n",
        "    \"And you don't know how to make it a balloon again. And is there anyone else who knows how to make it a balloon again?\"\n",
        "    \"And when it's chicken and egg, then what happens?\"\n",
        "    \"And you have a space around you, and people can see it. And you don't know why you don't trust it's there. And what kind of trust could that trust be?\"\n",
        "    \"And where is that trust now?\"\n",
        "    \"And whereabouts in the cave?\"\n",
        "    \"And trust is very deep in the cave. And is there anything else about very deep in that cave where that trust is?\"\n",
        "    \"And what kind of figure is that figure that's holding it?\"\n",
        "    \"And when you're pissed off and angry and just want it over, what would he like to have happen?\"\n",
        "    \"And he wants forgiveness. And you don't know if you can give it to him. And what kind of forgiveness is that forgiveness?\"\n",
        "    \"And where does your wanting to make him suffer come from, when it means he doesn't give you your trust back?\"\n",
        "    \"And he's been holding on to your trust for a long time deep in that cave. And now he wants your forgiveness to give your trust back. And you want to make him suffer. And he wants forgiveness. And he has your trust. And when that's how it is, what would you like to have happen?\"\n",
        "    \"And you want him to come out of the cave. And what does he want?\"\n",
        "    \"And what needs to happen for him to come out of that cave?\"\n",
        "    \"And you would go with Yoda to a half-way point. And what kind of point is a half-way point?\"\n",
        "    \"And when you would go with Yoda to that half-way point, what happens to the man in the cave?\"\n",
        "    \"And he's a bit scared. And what kind of scared is that scared?\"\n",
        "    \"And when his scared is paralysing, where is that scared?\"\n",
        "    \"And in his feet. And is there anything else about his feet when paralysing scared?\"\n",
        "    \"And what kind of mud is that mud in the back of the cave?\"\n",
        "    \"And where could that mud come from?\"\n",
        "    \"And he definitely wants to come out too. And when he wants to come out too, then what happens?\"\n",
        "    \"And is feeling sorry for him the same or different as forgiving?\"\n",
        "    \"And what kind of link is that link between feeling sorry for him and forgiving?\"\n",
        "    \"And a time link. And what kind of time is that time?\"\n",
        "    \"And now you've put domino there, then what happens?\"\n",
        "    \"And can you leave that package at that mid-way point?\"\n",
        "    \"And it's whether you can trust him to leave your trust. And when you'll leave the sorry and he'll leave the trust, what happens to forgiveness?\"\n",
        "    \"And is there anything else that needs to happen for you to leave that package at the mid-way point and to trust he will give your trust back?\"\n",
        "    \"And is there anything else that needs to happen when your gut instinct is saying 'yes, he will do it'?\"\n",
        "    \"And when your gut instinct is saying 'yes', take all the time you need to go to the half-way point with Yoda, and to leave the package, and to trust he'll give you back your trust, and for him to notice what happens to mud, and for you to notice [pause] what happens next.\"\n",
        "    \"And something's dissolving in the back of the cave and you don't feel so scared. And then what happens?\"\n",
        "    \"And when you're curious, then what happens?\"\n",
        "    \"And as he comes towards you with that package tied with lovely bows, what happens next?\"\n",
        "    \"And as he's giving it to Yoda, then what happens?\"\n",
        "    \"And then what happens?\"\n",
        "    \"And what kind of smell is that sweet smell?\"\n",
        "    \"And when sweet smell is like springtime, and Yoda has the package with your trust and he [look over to her left] has the package with your sorry for him, then what happens?\"\n",
        "    \"And when you go your separate ways, in which direction does he go?\"\n",
        "    \"And as you go your separate ways and Yoda has your trust, then what happens?\"\n",
        "    \"And she gives you a big hug, and then what happens?\"\n",
        "    \"And when he has given you your trust back, and you go your separate ways, and a mother's hug, and a sweet smell of spring time with pink blossoms [pause], what happens to a jewel that gives you choice?\"\n",
        "    \"And when you are the jewel, and heart is really fluttering,where is your trust?\"\n",
        "    \"And when your trust is around, inside, and it's your choice whether people come in or go out, is there anything else you need in relation to that ideal being you wanted to come out?\"\n",
        "    \"And I expect you'll enjoy getting to know more about that trust that you can trust.\"\n",
        "    \"\"\n",
        "\n",
        "\n",
        "\n",
        "\n",
        "    ]"
      ],
      "metadata": {
        "id": "9yB8l8i1WjLf"
      },
      "execution_count": 2,
      "outputs": []
    },
    {
      "cell_type": "markdown",
      "source": [
        "# **How This Function Works?**\n",
        "  This function transforms a list of\n",
        "  `num_samples` sequences (lists of integers)\n",
        "  into a 2D Numpy array of shape `(num_samples, num_timesteps)`.\n",
        "  `num_timesteps` is either the `maxlen` argument if provided,\n",
        "  or the length of the longest sequence otherwise.\n",
        "  Sequences that are shorter than `num_timesteps`\n",
        "  are padded with `value` at the end.\n",
        "  Sequences longer than `num_timesteps` are truncated\n",
        "  so that they fit the desired length.\n",
        "  The position where padding or truncation happens is determined by\n",
        "  the arguments `padding` and `truncating`, respectively. "
      ],
      "metadata": {
        "id": "JGb_RA23gaHV"
      }
    },
    {
      "cell_type": "code",
      "source": [
        "tokenizer = Tokenizer(num_words=10000, oov_token='<OOV>')\n",
        "tokenizer.fit_on_texts(session_1)\n",
        "word_index = tokenizer.word_index"
      ],
      "metadata": {
        "id": "uvlQIsUBXb7j"
      },
      "execution_count": 4,
      "outputs": []
    },
    {
      "cell_type": "code",
      "source": [
        "sequences = tokenizer.texts_to_sequences(session_1)"
      ],
      "metadata": {
        "id": "FzYd3d2CYww2"
      },
      "execution_count": 5,
      "outputs": []
    },
    {
      "cell_type": "code",
      "source": [
        "print('\\nWord Index = {}'.format(word_index))\n",
        "print('\\nSequences = {}'.format(session_1))"
      ],
      "metadata": {
        "colab": {
          "base_uri": "https://localhost:8080/"
        },
        "id": "TvfLu9_TY_02",
        "outputId": "a69da48a-afb5-4724-87b3-813e781859ca"
      },
      "execution_count": 6,
      "outputs": [
        {
          "output_type": "stream",
          "name": "stdout",
          "text": [
            "\n",
            "Word Index = {'<OOV>': 1, 'and': 2, 'to': 3, 'you': 4, 'what': 5, 'is': 6, 'that': 7, 'when': 8, 'your': 9, 'the': 10, 'trust': 11, 'a': 12, 'of': 13, 'happens': 14, 'he': 15, 'yoda': 16, 'in': 17, 'like': 18, 'be': 19, 'would': 20, 'it': 21, 'where': 22, 'for': 23, 'there': 24, 'can': 25, 'kind': 26, 'then': 27, 'cave': 28, 'him': 29, 'happen': 30, 'gut': 31, 'instinct': 32, 'with': 33, 'have': 34, 'else': 35, 'need': 36, 'come': 37, 'go': 38, 'out': 39, \"it's\": 40, 'anything': 41, 'back': 42, 'point': 43, 'scared': 44, 'now': 45, 'up': 46, \"don't\": 47, 'wants': 48, 'bits': 49, 'forgiveness': 50, 'time': 51, 'way': 52, 'leave': 53, 'package': 54, 'mother': 55, 'needs': 56, 'so': 57, 'very': 58, 'friends': 59, 'are': 60, 'want': 61, 'give': 62, 'has': 63, 'separate': 64, 'yourself': 65, 'or': 66, 'does': 67, \"he's\": 68, 'about': 69, 'again': 70, 'how': 71, 'listening': 72, 'pick': 73, 'know': 74, 'make': 75, 'half': 76, 'mud': 77, 'sorry': 78, 'as': 79, 'smell': 80, 'around': 81, 'not': 82, 'on': 83, \"that's\": 84, 'space': 85, 'choose': 86, 'who': 87, 'too': 88, 'proper': 89, 'long': 90, 'suffer': 91, 'listen': 92, \"you're\": 93, 'fear': 94, 'retreat': 95, 'deep': 96, 'his': 97, 'link': 98, 'sweet': 99, 'ways': 100, 'just': 101, 'bit': 102, 'see': 103, 'being': 104, 'wrapped': 105, 'protected': 106, 'hurt': 107, 'bubble': 108, 'pink': 109, 'comes': 110, \"doesn't\": 111, 'whereabouts': 112, \"yoda's\": 113, 'instincts': 114, 'completely': 115, 'pissed': 116, 'off': 117, 'do': 118, 'been': 119, 'more': 120, 'learn': 121, 'unfinished': 122, 'she': 123, 'balloon': 124, 'people': 125, 'could': 126, 'figure': 127, 'holding': 128, 'over': 129, 'from': 130, 'paralysing': 131, 'feet': 132, 'feeling': 133, 'forgiving': 134, 'at': 135, 'mid': 136, 'whether': 137, \"you'll\": 138, \"he'll\": 139, 'will': 140, 'saying': 141, 'notice': 142, 'pause': 143, 'next': 144, 'gives': 145, 'hug': 146, 'jewel': 147, 'choice': 148, 'gestures': 149, 'room': 150, 'try': 151, 'world': 152, 'hard': 153, 'actually': 154, 'fun': 155, 'friend': 156, 'things': 157, 'much': 158, 'having': 159, 'into': 160, 'rely': 161, 'get': 162, 'size': 163, 'shape': 164, \"didn't\": 165, 'mean': 166, 'throw': 167, 'here': 168, 'inquisitive': 169, 'part': 170, 'life': 171, 'was': 172, 'but': 173, \"wasn't\": 174, 'meant': 175, 'personally': 176, 'before': 177, 'enough': 178, \"aren't\": 179, \"what's\": 180, 'first': 181, 'thing': 182, 'place': 183, 'sit': 184, 'quietly': 185, 'moon': 186, 'those': 187, 'were': 188, 'many': 189, 'died': 190, 'complete': 191, 'somehow': 192, 'anyone': 193, 'knows': 194, 'chicken': 195, 'egg': 196, 'why': 197, 'angry': 198, 'if': 199, 'wanting': 200, 'means': 201, 'man': 202, 'definitely': 203, 'same': 204, 'different': 205, 'between': 206, \"you've\": 207, 'put': 208, 'domino': 209, \"'yes\": 210, \"it'\": 211, \"'yes'\": 212, 'take': 213, 'all': 214, \"something's\": 215, 'dissolving': 216, 'feel': 217, 'curious': 218, 'towards': 219, 'tied': 220, 'lovely': 221, 'bows': 222, 'giving': 223, 'springtime': 224, 'look': 225, 'her': 226, 'left': 227, 'which': 228, 'direction': 229, 'big': 230, 'given': 231, \"mother's\": 232, 'spring': 233, 'blossoms': 234, 'heart': 235, 'really': 236, 'fluttering': 237, 'inside': 238, 'relation': 239, 'ideal': 240, 'wanted': 241, 'i': 242, 'expect': 243, 'enjoy': 244, 'getting': 245}\n",
            "\n",
            "Sequences = [\"Where would you like to be [gestures around the room]?And what would you like to have happen now?And when you would like to just try it out a bit, what is ?And you would like to see what it's like to have a mother in the world. To not be separate and to mother yourself. And what needs to happen for you to mother yourself?And when you would like not to be so hard on yourself, and actually have fun, and be a friend, is there anything else you need to mother yourself?And when being wrapped up and protected so things don't hurt so much, that's wrapped up and protected like what?And having your bubble, your space, and pink, and when you can choose who comes into that space and who doesn't, where is that choose?And when it's your gut instinct you rely on or get hurt, whereabouts is that gut instinct?And when choose is your gut instinct, does it have a size or a shape?And when you didn't mean to throw Yoda in the cave too, where is Yoda now?And when he's here, and very inquisitive, is there anything else about Yoda and gut instinct?And when you trust Yoda's instincts completely, what would Yoda like to have happen?And Yoda would like for you to be proper friends again. And can you be proper friends, and can Yoda be part of your life?And he was very very pissed off, but it wasn't meant personally. And Yoda would like to be friends.And how long do you need to suffer before Yoda and you can be friends?And it's been long enough, and Yoda wants to be proper friends again, and you trust Yoda's instincts completely, and you listen more to your gut instinct. And what are you listening to when you are not listening to your gut instinct?And when you aren't listening to your gut instinct you're listening to your fear, and what kind of fear is that fear?And what's the first thing that needs to happen for that bubble to be in place?And when you need to retreat, and sit quietly with mother and listen and learn to pick up the bits, you need to retreat to where?And you need to retreat to the moon. And then what happens?And when you listen and learn, and can pick up the bits, what kind of bits are those bits you can pick up?And there were so many unfinished bits when she died. And where are unfinished bits now, that you need to pick up when you want to be complete somehow?And you don't know how to make it a balloon again. And is there anyone else who knows how to make it a balloon again?And when it's chicken and egg, then what happens?And you have a space around you, and people can see it. And you don't know why you don't trust it's there. And what kind of trust could that trust be?And where is that trust now?And whereabouts in the cave?And trust is very deep in the cave. And is there anything else about very deep in that cave where that trust is?And what kind of figure is that figure that's holding it?And when you're pissed off and angry and just want it over, what would he like to have happen?And he wants forgiveness. And you don't know if you can give it to him. And what kind of forgiveness is that forgiveness?And where does your wanting to make him suffer come from, when it means he doesn't give you your trust back?And he's been holding on to your trust for a long time deep in that cave. And now he wants your forgiveness to give your trust back. And you want to make him suffer. And he wants forgiveness. And he has your trust. And when that's how it is, what would you like to have happen?And you want him to come out of the cave. And what does he want?And what needs to happen for him to come out of that cave?And you would go with Yoda to a half-way point. And what kind of point is a half-way point?And when you would go with Yoda to that half-way point, what happens to the man in the cave?And he's a bit scared. And what kind of scared is that scared?And when his scared is paralysing, where is that scared?And in his feet. And is there anything else about his feet when paralysing scared?And what kind of mud is that mud in the back of the cave?And where could that mud come from?And he definitely wants to come out too. And when he wants to come out too, then what happens?And is feeling sorry for him the same or different as forgiving?And what kind of link is that link between feeling sorry for him and forgiving?And a time link. And what kind of time is that time?And now you've put domino there, then what happens?And can you leave that package at that mid-way point?And it's whether you can trust him to leave your trust. And when you'll leave the sorry and he'll leave the trust, what happens to forgiveness?And is there anything else that needs to happen for you to leave that package at the mid-way point and to trust he will give your trust back?And is there anything else that needs to happen when your gut instinct is saying 'yes, he will do it'?And when your gut instinct is saying 'yes', take all the time you need to go to the half-way point with Yoda, and to leave the package, and to trust he'll give you back your trust, and for him to notice what happens to mud, and for you to notice [pause] what happens next.And something's dissolving in the back of the cave and you don't feel so scared. And then what happens?And when you're curious, then what happens?And as he comes towards you with that package tied with lovely bows, what happens next?And as he's giving it to Yoda, then what happens?And then what happens?And what kind of smell is that sweet smell?And when sweet smell is like springtime, and Yoda has the package with your trust and he [look over to her left] has the package with your sorry for him, then what happens?And when you go your separate ways, in which direction does he go?And as you go your separate ways and Yoda has your trust, then what happens?And she gives you a big hug, and then what happens?And when he has given you your trust back, and you go your separate ways, and a mother's hug, and a sweet smell of spring time with pink blossoms [pause], what happens to a jewel that gives you choice?And when you are the jewel, and heart is really fluttering,where is your trust?And when your trust is around, inside, and it's your choice whether people come in or go out, is there anything else you need in relation to that ideal being you wanted to come out?And I expect you'll enjoy getting to know more about that trust that you can trust.\"]\n"
          ]
        }
      ]
    },
    {
      "cell_type": "code",
      "source": [
        "padded = pad_sequences(sequences, padding='post',\n",
        "                       truncating = 'post',\n",
        "                       maxlen=50)\n",
        "print('\\nPadded Sequences = {}'.format(padded))\n"
      ],
      "metadata": {
        "colab": {
          "base_uri": "https://localhost:8080/"
        },
        "id": "VZQhD4BzZgJX",
        "outputId": "0dcc0122-f81f-41f1-e566-e9ff912ec4a0"
      },
      "execution_count": 7,
      "outputs": [
        {
          "output_type": "stream",
          "name": "stdout",
          "text": [
            "\n",
            "Padded Sequences = [[ 22  20   4  18   3  19 149  81  10 150   2   5  20   4  18   3  34  30\n",
            "   45   2   8   4  20  18   3 101 151  21  39  12 102   5   6   2   4  20\n",
            "   18   3 103   5  40  18   3  34  12  55  17  10 152   3]]\n"
          ]
        }
      ]
    },
    {
      "cell_type": "code",
      "source": [
        "test_sentences = [\n",
        "    'How many times have you been married?'\n",
        "    'How many children do you have?'\n",
        "    'Whom do you live with?'\n",
        "    'If divorced, when?'\n",
        "    'If widowed, when?']"
      ],
      "metadata": {
        "id": "AMt-X-apaWjj"
      },
      "execution_count": 8,
      "outputs": []
    },
    {
      "cell_type": "code",
      "source": [
        "test_seq = tokenizer.texts_to_sequences(test_sentences)\n",
        "print('\\nTest Sequence = {}'.format(test_seq))"
      ],
      "metadata": {
        "colab": {
          "base_uri": "https://localhost:8080/"
        },
        "id": "SsT4eZ0wbG5t",
        "outputId": "6b06b856-7336-4b9d-8941-c4a07272eb3d"
      },
      "execution_count": 9,
      "outputs": [
        {
          "output_type": "stream",
          "name": "stdout",
          "text": [
            "\n",
            "Test Sequence = [[71, 189, 1, 34, 4, 119, 1, 71, 189, 1, 118, 4, 34, 1, 118, 4, 1, 33, 199, 1, 8, 199, 1, 8]]\n"
          ]
        }
      ]
    },
    {
      "cell_type": "code",
      "source": [
        "padded = pad_sequences(test_seq, padding='post',\n",
        "                       truncating='post', \n",
        "                       maxlen=50)\n",
        "print('\\nPadded Sequence Test: \\n{}'.format(padded))"
      ],
      "metadata": {
        "colab": {
          "base_uri": "https://localhost:8080/"
        },
        "id": "Gu9P-bHIbilA",
        "outputId": "ea006a47-3470-4df6-9324-4f784a7fe3b5"
      },
      "execution_count": 10,
      "outputs": [
        {
          "output_type": "stream",
          "name": "stdout",
          "text": [
            "\n",
            "Padded Sequence Test: \n",
            "[[ 71 189   1  34   4 119   1  71 189   1 118   4  34   1 118   4   1  33\n",
            "  199   1   8 199   1   8   0   0   0   0   0   0   0   0   0   0   0   0\n",
            "    0   0   0   0   0   0   0   0   0   0   0   0   0   0]]\n"
          ]
        }
      ]
    },
    {
      "cell_type": "markdown",
      "source": [
        "Notice how padded sequences now have the same index pattern. The model should make sure that all subsequent conversations use the same index pattern, which after having been modeled after a clean language session should follow the clean language format below: \n",
        "\n",
        "***ATTRIBUTES***\n",
        "\n",
        "And is there anything else about (that) [x]?\n",
        "And what kind of [x] (is that [x])?\n",
        "\n",
        "***LOCATION***\n",
        "\n",
        "And where/whereabouts is [x]?\n",
        "\n",
        "***METAPHOR***\n",
        "\n",
        "And that's [x] like what?\n",
        "\n",
        "***RELATIONSHIP***\n",
        "\n",
        "And is there a relationship between [x] and [y]?\n",
        "And when [x], what happens to [y]?\n",
        "\n",
        "***SEQUENCE***\n",
        "\n",
        "And what happens just before [event x]?\n",
        "And then what happens? / And what happens next?\n",
        "\n",
        "***SOURCE***\n",
        "\n",
        "And where could/does [x] come from ?\n",
        "\n",
        "***INTENTION***\n",
        "\n",
        "And what would [you/x] like to have happen?\n",
        "And what needs to happen for [x] to [intention of x]?\n",
        "And can [x] [intention of x]?"
      ],
      "metadata": {
        "id": "-7bHDgUbilB1"
      }
    },
    {
      "cell_type": "code",
      "source": [],
      "metadata": {
        "id": "3rnAZc7gi6Ym"
      },
      "execution_count": 10,
      "outputs": []
    }
  ]
}